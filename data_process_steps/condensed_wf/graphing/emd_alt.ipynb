{
 "cells": [
  {
   "cell_type": "code",
   "execution_count": 1,
   "metadata": {},
   "outputs": [],
   "source": [
    "from scipy.stats import wasserstein_distance\n"
   ]
  },
  {
   "cell_type": "code",
   "execution_count": 3,
   "metadata": {},
   "outputs": [
    {
     "name": "stdout",
     "output_type": "stream",
     "text": [
      "EMD for Class 1 = 0.25806451612903225\n",
      "EMD for Class 2 = 0.2592592592592593\n",
      "Mean EMD for two classes is = 0.2586618876941458\n",
      "Multi class EMD = 0.2586206896551724\n"
     ]
    }
   ],
   "source": [
    "one_class = wasserstein_distance([1,3,30,1,1,0,0,0,0,0],[0,0,36,0,0,0,0,0,0,0],[2,1,0,1,2,3,4,5,6,7],[2,1,0,1,2,3,4,5,6,7])\n",
    "c1 = str(one_class)\n",
    "print(f\"EMD for Class 1 = \" + c1)\n",
    "one_class_t2 = wasserstein_distance([0,1,1,25,2,1,0,0,0,0],[0,0,0,30,0,0,0,0,0,0],[3,2,1,0,1,2,3,4,5,6],[3,2,1,0,1,2,3,4,5,67])\n",
    "c2 = str(one_class_t2)\n",
    "print(f\"EMD for Class 2 = \" + c2)\n",
    "mean_class = (one_class + one_class_t2) / 2\n",
    "mean_class = str(mean_class)\n",
    "print(f\"Mean EMD for two classes is = \" + mean_class)\n",
    "multi_class_t2 = wasserstein_distance([1,3,30,1,1,0,0,0,0,0,0,1,1,25,2,1,0,0,0,0],[0,0,36,0,0,0,0,0,0,0,0,0,0,30,0,0,0,0,0,0],\n",
    "                                    [2,1,0,1,2,3,4,5,6,7,3,2,1,0,1,2,3,4,5,6],[2,1,0,1,2,3,4,5,6,7,3,2,1,0,1,2,3,4,5,6])\n",
    "multi_class_t2 = str(multi_class_t2)\n",
    "print(f\"Multi class EMD = \" + multi_class_t2)"
   ]
  },
  {
   "cell_type": "code",
   "execution_count": 4,
   "metadata": {},
   "outputs": [
    {
     "name": "stdout",
     "output_type": "stream",
     "text": [
      "EMD for the Confusion Matrix is 0.23939393939393938\n"
     ]
    }
   ],
   "source": [
    "whole_matrix = wasserstein_distance([15,1,1,0,0,0,0,0,0,0,5,8,4,0,0,0,0,0,0,0,5,5,18,1,0,0,1,0,0,0,0,1,3,10,2,1,0,0,0,1,0,0,0,0,15,0,0,0,0,0,0,0,0,0,3,14,2,1,0,0,0,0,0,0,0,5,4,6,1,0,0,0,0,0,0,2,0,37,1,0,0,0,0,0,0,0,0,3,13,3,0,0,0,0,0,0,0,0,1,25],\n",
    "                                    [17,0,0,0,0,0,0,0,0,0,0,17,0,0,0,0,0,0,0,0,0,0,30,0,0,0,0,0,0,0,0,0,0,18,0,0,0,0,0,0,0,0,0,0,15,0,0,0,0,0,0,0,0,0,0,20,0,0,0,0,0,0,0,0,0,0,16,0,0,0,0,0,0,0,0,0,0,38,0,0,0,0,0,0,0,0,0,0,19,0,0,0,0,0,0,0,0,0,0,26],\n",
    "                                    [0,1,2,3,4,5,6,7,8,9,1,0,1,2,3,4,5,6,7,8,2,1,0,1,2,3,4,5,6,7,3,2,1,0,1,2,3,4,5,6,4,3,2,1,0,1,2,3,4,5,5,4,3,2,1,0,1,2,3,4,6,5,4,3,2,1,0,1,2,3,7,6,5,4,3,2,1,0,1,2,8,7,6,5,4,3,2,1,0,1,9,8,7,6,5,4,3,2,1,0],\n",
    "                                    [0,1,2,3,4,5,6,7,8,9,1,0,1,2,3,4,5,6,7,8,2,1,0,1,2,3,4,5,6,7,3,2,1,0,1,2,3,4,5,6,4,3,2,1,0,1,2,3,4,5,5,4,3,2,1,0,1,2,3,4,6,5,4,3,2,1,0,1,2,3,7,6,5,4,3,2,1,0,1,2,8,7,6,5,4,3,2,1,0,1,9,8,7,6,5,4,3,2,1,0])\n",
    "whole_matrix = str(whole_matrix)\n",
    "print(\"EMD for the Confusion Matrix is \" + whole_matrix)"
   ]
  },
  {
   "cell_type": "code",
   "execution_count": 1,
   "metadata": {},
   "outputs": [
    {
     "name": "stdout",
     "output_type": "stream",
     "text": [
      "340\n",
      "[340]\n",
      "360\n",
      "[340, 360]\n",
      "380\n",
      "[340, 360, 380]\n",
      "420\n",
      "[340, 360, 380, 420]\n",
      "450\n",
      "[340, 360, 380, 420, 450]\n",
      "480\n",
      "[340, 360, 380, 420, 450, 480]\n",
      "490\n",
      "[340, 360, 380, 420, 450, 480, 490]\n",
      "495\n",
      "[340, 360, 380, 420, 450, 480, 490, 495]\n",
      "505\n",
      "[340, 360, 380, 420, 450, 480, 490, 495, 505]\n",
      "520\n",
      "[340, 360, 380, 420, 450, 480, 490, 495, 505, 520]\n",
      "560\n",
      "[340, 360, 380, 420, 450, 480, 490, 495, 505, 520, 560]\n",
      "350.0\n",
      "(0, 0, 0)\n",
      "#000000ff\n",
      "370.0\n",
      "(0, 0, 0)\n",
      "#000000ff\n",
      "400.0\n",
      "(0, 0, 0)\n",
      "#000000ff\n",
      "435.0\n",
      "(0, 0, 0)\n",
      "#000000ff\n",
      "465.0\n",
      "(0, 0, 255)\n"
     ]
    },
    {
     "ename": "ValueError",
     "evalue": "RGBA values should be within 0-1 range",
     "output_type": "error",
     "traceback": [
      "\u001b[1;31m---------------------------------------------------------------------------\u001b[0m",
      "\u001b[1;31mValueError\u001b[0m                                Traceback (most recent call last)",
      "Cell \u001b[1;32mIn[1], line 66\u001b[0m\n\u001b[0;32m     64\u001b[0m color \u001b[39m=\u001b[39m (\u001b[39mint\u001b[39m(R)\u001b[39m*\u001b[39m\u001b[39m255\u001b[39m, \u001b[39mint\u001b[39m(G)\u001b[39m*\u001b[39m\u001b[39m255\u001b[39m, \u001b[39mint\u001b[39m(B)\u001b[39m*\u001b[39m\u001b[39m255\u001b[39m)\n\u001b[0;32m     65\u001b[0m \u001b[39mprint\u001b[39m(color)\n\u001b[1;32m---> 66\u001b[0m \u001b[39mhex\u001b[39m \u001b[39m=\u001b[39m colors\u001b[39m.\u001b[39;49mrgb2hex(color, keep_alpha\u001b[39m=\u001b[39;49m\u001b[39mTrue\u001b[39;49;00m)\n\u001b[0;32m     67\u001b[0m \u001b[39mprint\u001b[39m(\u001b[39mhex\u001b[39m)\n\u001b[0;32m     68\u001b[0m hex_list\u001b[39m.\u001b[39mappend(\u001b[39mhex\u001b[39m)\n",
      "File \u001b[1;32mc:\\Users\\safra\\anaconda3\\envs\\deepBreaks_env2\\lib\\site-packages\\matplotlib\\colors.py:515\u001b[0m, in \u001b[0;36mto_hex\u001b[1;34m(c, keep_alpha)\u001b[0m\n\u001b[0;32m    499\u001b[0m \u001b[39mdef\u001b[39;00m \u001b[39mto_hex\u001b[39m(c, keep_alpha\u001b[39m=\u001b[39m\u001b[39mFalse\u001b[39;00m):\n\u001b[0;32m    500\u001b[0m     \u001b[39m\"\"\"\u001b[39;00m\n\u001b[0;32m    501\u001b[0m \u001b[39m    Convert *c* to a hex color.\u001b[39;00m\n\u001b[0;32m    502\u001b[0m \n\u001b[1;32m   (...)\u001b[0m\n\u001b[0;32m    513\u001b[0m \u001b[39m      ``#rrggbb`` or ``#rrggbbaa`` hex color string\u001b[39;00m\n\u001b[0;32m    514\u001b[0m \u001b[39m    \"\"\"\u001b[39;00m\n\u001b[1;32m--> 515\u001b[0m     c \u001b[39m=\u001b[39m to_rgba(c)\n\u001b[0;32m    516\u001b[0m     \u001b[39mif\u001b[39;00m \u001b[39mnot\u001b[39;00m keep_alpha:\n\u001b[0;32m    517\u001b[0m         c \u001b[39m=\u001b[39m c[:\u001b[39m3\u001b[39m]\n",
      "File \u001b[1;32mc:\\Users\\safra\\anaconda3\\envs\\deepBreaks_env2\\lib\\site-packages\\matplotlib\\colors.py:299\u001b[0m, in \u001b[0;36mto_rgba\u001b[1;34m(c, alpha)\u001b[0m\n\u001b[0;32m    297\u001b[0m     rgba \u001b[39m=\u001b[39m \u001b[39mNone\u001b[39;00m\n\u001b[0;32m    298\u001b[0m \u001b[39mif\u001b[39;00m rgba \u001b[39mis\u001b[39;00m \u001b[39mNone\u001b[39;00m:  \u001b[39m# Suppress exception chaining of cache lookup failure.\u001b[39;00m\n\u001b[1;32m--> 299\u001b[0m     rgba \u001b[39m=\u001b[39m _to_rgba_no_colorcycle(c, alpha)\n\u001b[0;32m    300\u001b[0m     \u001b[39mtry\u001b[39;00m:\n\u001b[0;32m    301\u001b[0m         _colors_full_map\u001b[39m.\u001b[39mcache[c, alpha] \u001b[39m=\u001b[39m rgba\n",
      "File \u001b[1;32mc:\\Users\\safra\\anaconda3\\envs\\deepBreaks_env2\\lib\\site-packages\\matplotlib\\colors.py:395\u001b[0m, in \u001b[0;36m_to_rgba_no_colorcycle\u001b[1;34m(c, alpha)\u001b[0m\n\u001b[0;32m    393\u001b[0m     c \u001b[39m=\u001b[39m c[:\u001b[39m3\u001b[39m] \u001b[39m+\u001b[39m (alpha,)\n\u001b[0;32m    394\u001b[0m \u001b[39mif\u001b[39;00m \u001b[39many\u001b[39m(elem \u001b[39m<\u001b[39m \u001b[39m0\u001b[39m \u001b[39mor\u001b[39;00m elem \u001b[39m>\u001b[39m \u001b[39m1\u001b[39m \u001b[39mfor\u001b[39;00m elem \u001b[39min\u001b[39;00m c):\n\u001b[1;32m--> 395\u001b[0m     \u001b[39mraise\u001b[39;00m \u001b[39mValueError\u001b[39;00m(\u001b[39m\"\u001b[39m\u001b[39mRGBA values should be within 0-1 range\u001b[39m\u001b[39m\"\u001b[39m)\n\u001b[0;32m    396\u001b[0m \u001b[39mreturn\u001b[39;00m c\n",
      "\u001b[1;31mValueError\u001b[0m: RGBA values should be within 0-1 range"
     ]
    }
   ],
   "source": [
    "import matplotlib.pyplot as p\n",
    "import matplotlib.colors as colors\n",
    "import numpy as np\n",
    "import matplotlib.pyplot as plt\n",
    "import csv\n",
    "import pandas as pd\n",
    "import argparse\n",
    "import seaborn as sns\n",
    "from statistics import mean\n",
    "\n",
    "class_assignment = \"classifier_ranges.tsv\"\n",
    "#Set class values (probably better to read in a file instead of hard code)\n",
    "classes = pd.read_csv(class_assignment, delimiter='\\t')\n",
    "class_list = []\n",
    "\n",
    "for c in classes['Class_Ranges']:\n",
    "    print(c)\n",
    "    class_list.append(c)\n",
    "    print(class_list)\n",
    "\n",
    "hex_list = []\n",
    "i = 0\n",
    "k=0\n",
    "for waves in class_list:\n",
    "    if i+1 != len(class_list):\n",
    "\n",
    "        gamma = 0.8\n",
    "        intensity_max = 1\n",
    "\n",
    "        wave = float(mean([class_list[i],class_list[i+1]]))\n",
    "        i+=1\n",
    "        print(wave)\n",
    "        if wave>= 380 and wave<= 440:\n",
    "            attenuation = 0.3 + (0.7 * (wave- 380) / (440 - 380))\n",
    "            R = ((-(wave- 440) / (440 - 380)) * attenuation) ** gamma\n",
    "            G = 0.0\n",
    "            B = (1.0 * attenuation) ** gamma\n",
    "        elif wave>= 440 and wave<= 490:\n",
    "            R = 0.0\n",
    "            G = ((wave- 440) / (490 - 440)) ** gamma\n",
    "            B = 1.0\n",
    "        elif wave>= 490 and wave<= 510:\n",
    "            R = 0.0\n",
    "            G = 1.0\n",
    "            B = (-(wave- 510) / (510 - 490)) ** gamma\n",
    "        elif wave>= 510 and wave<= 580:\n",
    "            R = ((wave- 510) / (580 - 510)) ** gamma\n",
    "            G = 1.0\n",
    "            B = 0.0\n",
    "        elif wave>= 580 and wave<= 645:\n",
    "            R = 1.0\n",
    "            G = (-(wave- 645) / (645 - 580)) ** gamma\n",
    "            B = 0.0\n",
    "        elif wave>= 645 and wave<= 750:\n",
    "            attenuation = 0.3 + 0.7 * (750 - wave) / (750 - 645)\n",
    "            R = (1.0 * attenuation) ** gamma\n",
    "            G = 0.0\n",
    "            B = 0.0\n",
    "        else:\n",
    "            R = 0.0\n",
    "            G = 0.0\n",
    "            B = 0.0\n",
    "\n",
    "        color = (int(R)*255, int(G)*255, int(B)*255)\n",
    "        print(color)\n",
    "        hex = colors.rgb2hex(color, keep_alpha=True)\n",
    "        print(hex)\n",
    "        hex_list.append(hex)\n",
    "        \n",
    "    else: \n",
    "         pass\n",
    "print(hex_list)"
   ]
  },
  {
   "cell_type": "code",
   "execution_count": 31,
   "metadata": {},
   "outputs": [
    {
     "name": "stdout",
     "output_type": "stream",
     "text": [
      "#000000ff\n",
      "#000000ff\n",
      "#000000ff\n",
      "#000000ff\n",
      "#0000ffff\n",
      "#0000ffff\n",
      "#00ff00ff\n",
      "#00ff00ff\n",
      "#00ff00ff\n",
      "#00ff00ff\n"
     ]
    },
    {
     "data": {
      "image/png": "[encoded data removed]",
      "text/plain": [
       "<Figure size 640x480 with 1 Axes>"
      ]
     },
     "metadata": {},
     "output_type": "display_data"
    }
   ],
   "source": [
    "\n",
    "\n",
    "file = \"wds_classifier_test_results_t2.csv\"\n",
    "outfile = \"test\"\n",
    "\n",
    "#have it parse through the file and assign number of classes, adding the numbers to a list. \n",
    "\n",
    "#Used a calculator to get hex color from wave\n",
    "#https://academo.org/demos/wavelength-to-colour-relationship/\n",
    "class0col = '#0f0f0f'\t#350 is UV so using grey \n",
    "class1col = '#0f0f0f'\t#370 is UV so using grey\n",
    "class2col = '#8300b5'\t#400\n",
    "class3col = '#2300ff'\t#435\n",
    "class4col = '#0092ff'\t#465\n",
    "class5col = '#00eaff'\t#485\n",
    "class6col = '#00ffe0'\t#493\n",
    "class7col = '#00ff92'\t#500\n",
    "class8col = '#15ff00'\t#513\n",
    "class9col = '#70ff00'\t#535\n",
    "\n",
    "#Read data\n",
    "table = pd.read_csv(file, delimiter = ',')\n",
    "\n",
    "#Duplicate predicted class next to change to actual lmax \n",
    "table['Predicted_lmax'] = table.loc[:, 'Predicted_Class']\n",
    "i = 0\n",
    "for colors in class_list:\n",
    "#Convert class values to median lambda max value of that class in new column\n",
    "    if i+1 != len(class_list):\n",
    "        table['Predicted_lmax'] = table['Predicted_lmax'].replace(i,mean([class_list[i],class_list[i+1]]))\n",
    "        i+=1\n",
    "    else: \n",
    "        pass\n",
    "\n",
    "\n",
    "colorby='Score'\n",
    "\n",
    "#2d\n",
    "sns.scatterplot(x='Lambda_Max', y='Predicted_lmax', data=table, edgecolor = 'none', color = 'black', s = 20)\n",
    "plt.xlabel('Known Lambda-max (nm)')\n",
    "plt.ylabel('Predicted Lambda-max (mean of class in nm)')\n",
    "\n",
    "i = 0\n",
    "alpha = 0.05\n",
    "for wavelengths in class_list:\n",
    "    if i+1 <= len(hex_list):\n",
    "        print(hex_list[i])\n",
    "        plt.axhspan(class_list[i],class_list[i+1], facecolor=hex_list[i], alpha=0.15)\n",
    "        i+=1\n",
    "    else: \n",
    "        pass\n",
    "    #place colored bands behind plot\n",
    "\n",
    "\n",
    "#If no file name show on screen otherwise save pdf\n",
    "if outfile == '' :\n",
    "    plt.show()\n",
    "else:\n",
    "    fileout = outfile + '.pdf'\n",
    "    plt.savefig(fileout)\n"
   ]
  }
 ],
 "metadata": {
  "kernelspec": {
   "display_name": "deepBreaks_env2",
   "language": "python",
   "name": "python3"
  },
  "language_info": {
   "codemirror_mode": {
    "name": "ipython",
    "version": 3
   },
   "file_extension": ".py",
   "mimetype": "text/x-python",
   "name": "python",
   "nbconvert_exporter": "python",
   "pygments_lexer": "ipython3",
   "version": "3.8.15"
  },
  "orig_nbformat": 4,
  "vscode": {
   "interpreter": {
    "hash": "ed5aafab82c1711937cb6f5bcd06445bf48d3ee36304e1e46581089e6ea661fb"
   }
  }
 },
 "nbformat": 4,
 "nbformat_minor": 2
}
