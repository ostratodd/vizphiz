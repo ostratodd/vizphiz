{
 "cells": [
  {
   "attachments": {},
   "cell_type": "markdown",
   "id": "d2f4de42",
   "metadata": {},
   "source": [
    "# <font color=green>deepBreaks Applications</font>\n",
    "## Modeling spectral tuning sites of opsin proteins based on amino-acid sequence...  "
   ]
  },
  {
   "attachments": {},
   "cell_type": "markdown",
   "id": "d5b43e3c",
   "metadata": {},
   "source": [
    "# <font color=red>Step 0: mySQL DB Setup -</font> Script 0\n",
    "## *The following text is a script written in mySQL format. You can copy and paste this directly into a mySQL text file or query window within mySQL workbench.*\n",
    "```\n",
    "DROP DATABASE vizphiz;\n",
    "CREATE DATABASE vizphiz;\n",
    "USE vizphiz;\n",
    "\n",
    "CREATE TABLE lamdamax\n",
    "(\n",
    "id int unsigned not null primary key,\n",
    "genus varchar(50),\n",
    "species varchar(50),\n",
    "celltype varchar(50),\n",
    "cellsubtype varchar(50),\n",
    "lamdamax decimal(9,5),\n",
    "error decimal(9,5),\n",
    "chromophore varchar(50),\n",
    "method varchar(50),\n",
    "stage varchar(50),\n",
    "refid int,\n",
    "notes varchar(1000)\n",
    ");\n",
    "\n",
    "CREATE TABLE heterologous\n",
    "(\n",
    "hetid int unsigned not null primary key,\n",
    "genus  varchar(50),\n",
    "species varchar(50),\n",
    "accession varchar(500),\n",
    "mutations varchar(500),\n",
    "lamdamax decimal(9,5),\n",
    "error decimal(9,5),\n",
    "cellculture varchar(50),\n",
    "purification varchar(50),\n",
    "spectrum varchar(50),\n",
    "sourcetype varchar(50),\n",
    "refid int,\n",
    "notes varchar(1000)\n",
    ");\n",
    "\n",
    "CREATE TABLE links\n",
    "(\n",
    "linkid int unsigned not null primary key,\n",
    "accession varchar(500),\n",
    "maxid int,\n",
    "refid int,\n",
    "evidence varchar(1000)\n",
    ");\n",
    "\n",
    "CREATE TABLE search\n",
    "(\n",
    "searchid int unsigned not null primary key,\n",
    "researcher varchar(50),\n",
    "month int,\n",
    "year int,\n",
    "engine varchar(500),\n",
    "keywords varchar(500)\n",
    ");\n",
    "\n",
    "CREATE TABLE opsins\n",
    "(\n",
    "opsinid int unsigned not null primary key,\n",
    "genefamily varchar(50),\n",
    "genenames varchar(50),\n",
    "genus varchar(50),\n",
    "phylum varchar(25,)\n",
    "species varchar(50),\n",
    "db varchar(50),\n",
    "accession varchar(500),\n",
    "dna varchar(10000),\n",
    "aa varchar(3333),\n",
    "refid int\n",
    ");\n",
    "\n",
    "CREATE TABLE refs\n",
    "(\n",
    "refid int,\n",
    "doilink varchar(100),\n",
    "searchid int\n",
    ");\n",
    "``` "
   ]
  },
  {
   "cell_type": "code",
   "execution_count": null,
   "id": "34f7c956",
   "metadata": {},
   "outputs": [],
   "source": [
    "#All neccessary packages to import for data process steps.\n",
    "import mysql\n",
    "import mysql.connector\n",
    "#install mysql-connector-python // NOT mysql-connector\n",
    "import re\n",
    "import os\n",
    "import datetime \n",
    "import subprocess"
   ]
  },
  {
   "attachments": {},
   "cell_type": "markdown",
   "id": "c5778bef",
   "metadata": {},
   "source": [
    "# <font color=red>STEP 0: Data Base Setup -</font> Script 1 - Import heterologous.tsv into mySQL\n"
   ]
  },
  {
   "cell_type": "code",
   "execution_count": null,
   "id": "0320e2a0",
   "metadata": {},
   "outputs": [],
   "source": [
    "mydb = mysql.connector.connect(\n",
    "  host=\"localhost\",\n",
    "  user=\"root\",\n",
    "  database= \"vizphiz\",\n",
    "  password= \"Geass5566!!\"\n",
    ")\n",
    "\n",
    "#read file for data\n",
    "file1 = open('heterologous.tsv', 'r', encoding=\"utf8\")\n",
    "Lines = file1.readlines()\n",
    "\n",
    "count=0\n",
    "for line in Lines:\n",
    "    columns = line.split(\"\\t\")\n",
    "    print(columns)\n",
    "    mycursor = mydb.cursor()\n",
    "\n",
    "    sql = \"INSERT INTO opsins.heterologous (hetid, genus, species, accession, mutations, lamdamax, error, cellculture, purification, spectrum, sourcetype, refid) VALUES (%s, %s, %s, %s, %s, %s, %s, %s, %s, %s, %s, %s)\"\n",
    "    val = (columns[0], columns[1], columns[2], columns[3], columns[4], columns[5], columns[6], columns[7], columns[8], columns[9], columns[10], columns[11])\n",
    "    print(sql)\n",
    "    print(val)\n",
    "\n",
    "    mycursor.execute(sql, val)\n",
    "\n",
    "    mydb.commit()\n",
    "\n",
    "    print(mycursor.rowcount, \"record inserted.\")"
   ]
  },
  {
   "attachments": {},
   "cell_type": "markdown",
   "id": "31e8500e",
   "metadata": {},
   "source": [
    "# <font color=red>STEP 0: Data Base Setup -</font> Script 2 - Import opsindb.tsv into mySQL"
   ]
  },
  {
   "cell_type": "code",
   "execution_count": null,
   "id": "31b5a255",
   "metadata": {},
   "outputs": [],
   "source": [
    "mydb = mysql.connector.connect(\n",
    "  host=\"localhost\",\n",
    "  user=\"root\",\n",
    "  database= \"vizphiz\",\n",
    "  password= \"Geass5566!!\"\n",
    ")\n",
    "\n",
    "#read file for data\n",
    "file1 = open('opsindb.tsv', 'r')\n",
    "Lines = file1.readlines()\n",
    "\n",
    "count=0\n",
    "for line in Lines:\n",
    "    columns = line.split(\"\\t\")\n",
    "\n",
    "    mycursor = mydb.cursor()\n",
    "\n",
    "    sql = \"INSERT INTO opsins.opsins (opsinid, genefamily, genenames, genus, species, phylum, db, accession, dna, aa, refid) VALUES (%s, %s, %s, %s, %s, %s, %s, %s, %s, %s)\"\n",
    "    val = (columns[0], columns[1], columns[2], columns[3], columns[4], columns[5], columns[6], columns[7], columns[8], columns[9], columns[10])\n",
    "    print(sql)\n",
    "    print(val)\n",
    "\n",
    "    mycursor.execute(sql, val)\n",
    "\n",
    "    mydb.commit()\n",
    "\n",
    "    print(mycursor.rowcount, \"record inserted.\")\n"
   ]
  },
  {
   "attachments": {},
   "cell_type": "markdown",
   "id": "f6c27589",
   "metadata": {},
   "source": [
    "# <font color=red>STEP 1: Extract Data From Vizphiz</font>\n",
    "### Output = 8 different 'versions' // 'splits' of the data. \n",
    "2. Strategy = FFT-NS-2 // G-INS-1"
   ]
  },
  {
   "cell_type": "code",
   "execution_count": null,
   "id": "a386fcb5",
   "metadata": {},
   "outputs": [],
   "source": [
    "inv = re.compile('^Rtc|^BRh[0-3]|Pr[A-Z]|Rh1,Rh3|^IV|^inv')\n",
    "rod = re.compile('Rh[0-2]|exoRh')\n",
    "d = re.compile(\"^NM_001014890.2$|^NM_001014890$\")\n",
    "iec = re.compile(\"Limenitis|Papilio\")"
   ]
  },
  {
   "cell_type": "code",
   "execution_count": null,
   "id": "fa1e2eeb",
   "metadata": {},
   "outputs": [],
   "source": [
    "#directory preperation\n",
    "dt_label = datetime.datetime.now().strftime('%Y-%m-%d_%H-%M-%S')\n",
    "report_dir = str(f'vizphiz_data_splits_{dt_label}')\n",
    "os.makedirs(report_dir)\n",
    "\n",
    "wd_output = f'{report_dir}/wds.txt'\n",
    "sws_output = f'{report_dir}/swd.txt'\n",
    "mws_output = f'{report_dir}/mwd.txt'\n",
    "rod_output = f'{report_dir}/rod.txt'\n",
    "wd_ni_output = f'{report_dir}/wds_ni.txt'\n",
    "inv_output = f'{report_dir}/inv_only.txt'\n",
    "nmoc_output = f'{report_dir}/nmoc.txt'\n",
    "mut_output = f'{report_dir}/mut_only.txt'\n",
    "wh_metadata = f'{report_dir}/wds_meta.tsv'\n",
    "sw_metadata = f'{report_dir}/sws_meta.tsv'\n",
    "mw_metadata = f'{report_dir}/mws_meta.tsv'\n",
    "rh_metadata = f'{report_dir}/rod_meta.tsv'\n",
    "wd_ni_metadata = f'{report_dir}/wds_ni_meta.tsv'\n",
    "inv_metadata = f'{report_dir}/inv_meta.tsv'\n",
    "nmoc_metadata = f'{report_dir}/nmoc_meta.tsv'\n",
    "mut_metadata = f'{report_dir}/mut_meta.txt'\n",
    "\n",
    "meta_data_list = [wh_metadata,sw_metadata,mw_metadata,rh_metadata,wd_ni_metadata,inv_metadata,nmoc_metadata]\n",
    "\n",
    "m = 0\n",
    "s = 0\n",
    "l = 0\n",
    "r = 0\n",
    "c = 0\n",
    "z = 0\n",
    "q = 0\n",
    "mut = 0\n"
   ]
  },
  {
   "cell_type": "code",
   "execution_count": null,
   "id": "de5515f2",
   "metadata": {},
   "outputs": [],
   "source": [
    "mydb = mysql.connector.connect(\n",
    "  host=\"localhost\",\n",
    "  user=\"root\",\n",
    "  database=\"vizphiz\",\n",
    "  password=\"Geass5566!!\"\n",
    ") \n",
    "mycursor = mydb.cursor()\n",
    "\n",
    "sql = \"select DISTINCT o.genus,o.species,o.genefamily,o.accession,h.lamdamax,o.aa,o.phylum from opsins.opsins o, opsins.heterologous h WHERE (o.accession = h.accession AND o.refid = h.refid); \"\n",
    "mycursor.execute(sql)\n",
    "myresult = mycursor.fetchall()\n",
    "\n",
    "\n",
    "for x in myresult:  \n",
    "\n",
    "  if (x[4] == 0):\n",
    "    pass   \n",
    "  else:  \n",
    "  #REG-DATA SECTION    \n",
    "    with open(wd_output, 'a') as f:\n",
    "      if m == 0:\n",
    "        f.write(\">Bovine\\nMNGTEGPNFYVPFSNKTGVVRSPFEAPQYYLAEPWQFSMLAAYMFLLIMLGFPINFLTLYVTVQHKKLRTPLNYILLNLAVADLFMVFGGFTTTLYTSLHGYFVFGPTGCNLEGFFATLGGEIALWSLVVLAIERYVVVCKPMSNFRFGENHAIMGVAFTWVMALACAAPPLVGWSRYIPEGMQCSCGIDYYTPHEETNNESFVIYMFVVHFIIPLIVIFFCYGQLVFTVKEAAAQQQESATTQKAEKEVTRMVIIMVIAFLICWLPYAGVAFYIFTHQGSDFGPIFMTIPAFFAKTSAVYNPVIYIMMNKQFRNCMVTTLCCGKNPLGDDEASTTVSKTETSQVAPA\\n\")\n",
    "      if (d.match(x[3])):\n",
    "        pass\n",
    "      else:\n",
    "        m += 1 \n",
    "        #This makes the fasta format file\n",
    "        seq = \">S\" + str(m)\n",
    "        f.write(seq)\n",
    "        seq2 = str('\\n' + x[5] + '\\n')\n",
    "        f.write(seq2)\n",
    "\n",
    "    with open(wd_ni_output, 'a') as f:\n",
    "      p = re.compile('^Rtc|^BRh[0-3]|Pr[A-Z]|Rh1,Rh3|^IV|^inv')\n",
    "      if (p.match(x[2]) or d.match(x[3]) or iec.match(x[0])):\n",
    "        pass\n",
    "      else:\n",
    "        if c == 0:\n",
    "          f.write(\">Bovine\\nMNGTEGPNFYVPFSNKTGVVRSPFEAPQYYLAEPWQFSMLAAYMFLLIMLGFPINFLTLYVTVQHKKLRTPLNYILLNLAVADLFMVFGGFTTTLYTSLHGYFVFGPTGCNLEGFFATLGGEIALWSLVVLAIERYVVVCKPMSNFRFGENHAIMGVAFTWVMALACAAPPLVGWSRYIPEGMQCSCGIDYYTPHEETNNESFVIYMFVVHFIIPLIVIFFCYGQLVFTVKEAAAQQQESATTQKAEKEVTRMVIIMVIAFLICWLPYAGVAFYIFTHQGSDFGPIFMTIPAFFAKTSAVYNPVIYIMMNKQFRNCMVTTLCCGKNPLGDDEASTTVSKTETSQVAPA\\n\")\n",
    "        c += 1 \n",
    "        #This makes the fasta format file\n",
    "        seq = \">S\" + str(c)\n",
    "        f.write(seq)\n",
    "        seq2 = str('\\n' + x[5] + '\\n')\n",
    "        f.write(seq2)\n",
    "\n",
    "    with open(inv_output, 'a') as f:\n",
    "      p = re.compile('^Rtc|^BRh[0-3]|Pr[A-Z]|Rh1,Rh3|^IV|^inv')\n",
    "      if (p.match(x[2]) or iec.match(x[0])):\n",
    "        if q == 0:\n",
    "          f.write(\">Squid\\nMGRDLRDNETWWYNPSIVVHPHWREFDQVPDAVYYSLGIFIGICGIIGCGGNGIVIYLFTKTKSLQTPANMFIINLAFSDFTFSLVNGFPLMTISCFLKKWIFGFAACKVYGFIGGIFGFMSIMTMAMISIDRYNVIGRPMAASKKMSHRRAFIMIIFVWLWSVLWAIGPIFGWGAYTLEGVLCNCSFDYISRDSTTRSNILCMFILGFFGPILIIFFCYFNIVMSVSNHEKEMAAMAKRLNAKELRKAQAGANAEMRLAKISIVIVSQFLLSWSPYAVVALLAQFGPLEWVTPYAAQLPVMFAKASAIHNPMIYSVSHPKFREAISQTFPWVLTCCQFDDKETEDDKDAETEIPAGESSDAAPSADAAQMKEMMAMMQKMQQQQAAYPPQGYAPPPQGYPPQGYPPQGYPPQGYPPQGYPPPPQGAPPQGAPPAAPPQGVDNQAYQA\\n\")\n",
    "        q += 1 \n",
    "        #This makes the fasta format file\n",
    "        seq = \">S\" + str(q)\n",
    "        f.write(seq)\n",
    "        seq2 = str('\\n' + x[5] + '\\n')\n",
    "        f.write(seq2)\n",
    "      else:\n",
    "        pass\n",
    "\n",
    "    with open(nmoc_output, 'a') as f:\n",
    "      p = re.compile('[G,A,L,M,F,W,K,Q,E,S,P,V,I,C,Y,H,R,N,D,T][0-9]+[G,A,L,M,F,W,K,Q,E,S,P,V,I,C,Y,H,R,N,D,T]')\n",
    "      if (p.search(x[3]) or \"-\" in x[3]):\n",
    "        pass\n",
    "      else:\n",
    "        if z == 0:\n",
    "          f.write(\">Bovine\\nMNGTEGPNFYVPFSNKTGVVRSPFEAPQYYLAEPWQFSMLAAYMFLLIMLGFPINFLTLYVTVQHKKLRTPLNYILLNLAVADLFMVFGGFTTTLYTSLHGYFVFGPTGCNLEGFFATLGGEIALWSLVVLAIERYVVVCKPMSNFRFGENHAIMGVAFTWVMALACAAPPLVGWSRYIPEGMQCSCGIDYYTPHEETNNESFVIYMFVVHFIIPLIVIFFCYGQLVFTVKEAAAQQQESATTQKAEKEVTRMVIIMVIAFLICWLPYAGVAFYIFTHQGSDFGPIFMTIPAFFAKTSAVYNPVIYIMMNKQFRNCMVTTLCCGKNPLGDDEASTTVSKTETSQVAPA\\n\")\n",
    "        if(d.match(x[3])):\n",
    "          pass\n",
    "        else:\n",
    "          z += 1 \n",
    "          #This makes the fasta format file\n",
    "          seq = \">S\" + str(z)\n",
    "          f.write(seq)\n",
    "          seq2 = str('\\n' + x[5] + '\\n')\n",
    "          f.write(seq2)\n",
    "\n",
    "    with open(mut_output, 'a') as f:\n",
    "      p = re.compile('[G,A,L,M,F,W,K,Q,E,S,P,V,I,C,Y,H,R,N,D,T][0-9]+[G,A,L,M,F,W,K,Q,E,S,P,V,I,C,Y,H,R,N,D,T]')\n",
    "      if (p.search(x[3]) or \"-\" in x[3]):\n",
    "        if mut == 0:\n",
    "          f.write(\">Bovine\\nMNGTEGPNFYVPFSNKTGVVRSPFEAPQYYLAEPWQFSMLAAYMFLLIMLGFPINFLTLYVTVQHKKLRTPLNYILLNLAVADLFMVFGGFTTTLYTSLHGYFVFGPTGCNLEGFFATLGGEIALWSLVVLAIERYVVVCKPMSNFRFGENHAIMGVAFTWVMALACAAPPLVGWSRYIPEGMQCSCGIDYYTPHEETNNESFVIYMFVVHFIIPLIVIFFCYGQLVFTVKEAAAQQQESATTQKAEKEVTRMVIIMVIAFLICWLPYAGVAFYIFTHQGSDFGPIFMTIPAFFAKTSAVYNPVIYIMMNKQFRNCMVTTLCCGKNPLGDDEASTTVSKTETSQVAPA\\n\")\n",
    "        if(d.match(x[3])):\n",
    "          pass\n",
    "        else:\n",
    "          mut += 1 \n",
    "          #This makes the fasta format file\n",
    "          seq = \">M\" + str(mut)\n",
    "          f.write(seq)\n",
    "          seq2 = str('\\n' + x[5] + '\\n')\n",
    "          f.write(seq2)\n",
    "      else:\n",
    "        pass\n",
    "\n",
    "    with open(sws_output, 'a') as f:\n",
    "      p = re.compile('^SWS|^UVS')\n",
    "      if p.match(x[2]):\n",
    "        s+=1\n",
    "        if s == 1:\n",
    "          f.write(\">Bovine\\nMNGTEGPNFYVPFSNKTGVVRSPFEAPQYYLAEPWQFSMLAAYMFLLIMLGFPINFLTLYVTVQHKKLRTPLNYILLNLAVADLFMVFGGFTTTLYTSLHGYFVFGPTGCNLEGFFATLGGEIALWSLVVLAIERYVVVCKPMSNFRFGENHAIMGVAFTWVMALACAAPPLVGWSRYIPEGMQCSCGIDYYTPHEETNNESFVIYMFVVHFIIPLIVIFFCYGQLVFTVKEAAAQQQESATTQKAEKEVTRMVIIMVIAFLICWLPYAGVAFYIFTHQGSDFGPIFMTIPAFFAKTSAVYNPVIYIMMNKQFRNCMVTTLCCGKNPLGDDEASTTVSKTETSQVAPA\\n\")  \n",
    "      #This makes the fasta format file\n",
    "        seq = \">S\" + str(s)\n",
    "        f.write(seq)\n",
    "        seq2 = str('\\n' + x[5] + '\\n')\n",
    "        f.write(seq2)\n",
    "\n",
    "    with open(mws_output, 'a') as f:\n",
    "      p = re.compile('^MWS|^LWS')\n",
    "      if p.match(x[2]):\n",
    "        l+=1\n",
    "        if l == 1:\n",
    "          f.write(\">Bovine\\nMNGTEGPNFYVPFSNKTGVVRSPFEAPQYYLAEPWQFSMLAAYMFLLIMLGFPINFLTLYVTVQHKKLRTPLNYILLNLAVADLFMVFGGFTTTLYTSLHGYFVFGPTGCNLEGFFATLGGEIALWSLVVLAIERYVVVCKPMSNFRFGENHAIMGVAFTWVMALACAAPPLVGWSRYIPEGMQCSCGIDYYTPHEETNNESFVIYMFVVHFIIPLIVIFFCYGQLVFTVKEAAAQQQESATTQKAEKEVTRMVIIMVIAFLICWLPYAGVAFYIFTHQGSDFGPIFMTIPAFFAKTSAVYNPVIYIMMNKQFRNCMVTTLCCGKNPLGDDEASTTVSKTETSQVAPA\\n\")\n",
    "        #This makes the fasta format file\n",
    "        seq = \">S\" + str(l)\n",
    "        f.write(seq)\n",
    "        seq2 = str('\\n' + x[5] + '\\n')\n",
    "        f.write(seq2)\n",
    "\n",
    "    with open(rod_output, 'a') as f:\n",
    "      p = re.compile('Rh[0-2]|exoRh')\n",
    "      if p.match(x[2]):\n",
    "        if r == 0:\n",
    "          f.write(\">Bovine\\nMNGTEGPNFYVPFSNKTGVVRSPFEAPQYYLAEPWQFSMLAAYMFLLIMLGFPINFLTLYVTVQHKKLRTPLNYILLNLAVADLFMVFGGFTTTLYTSLHGYFVFGPTGCNLEGFFATLGGEIALWSLVVLAIERYVVVCKPMSNFRFGENHAIMGVAFTWVMALACAAPPLVGWSRYIPEGMQCSCGIDYYTPHEETNNESFVIYMFVVHFIIPLIVIFFCYGQLVFTVKEAAAQQQESATTQKAEKEVTRMVIIMVIAFLICWLPYAGVAFYIFTHQGSDFGPIFMTIPAFFAKTSAVYNPVIYIMMNKQFRNCMVTTLCCGKNPLGDDEASTTVSKTETSQVAPA\\n\")\n",
    "        if (inv.match(x[2]) or d.match(x[3]) or iec.match(x[0])):\n",
    "          pass\n",
    "        else:\n",
    "          r+=1\n",
    "          #This makes the fasta format file\n",
    "          seq = \">S\" + str(r)\n",
    "          f.write(seq)\n",
    "          seq2 = str('\\n' + x[5] + '\\n')\n",
    "          f.write(seq2)\n",
    "\n",
    "  #METADATA SECTION\n",
    "    with open(wh_metadata, 'a') as g:\n",
    "      if m == 1:\n",
    "        g.write(\"\\tLambda_Max\\tSpecies\\tOpsin_Family\\tAccession\\n\")  \n",
    "        g.write(\"Bovine\\t500.0000\\tBos_tarus\\tRh1\\tNM_001014890\\n\")\n",
    "      if (d.match(x[3])):\n",
    "        pass\n",
    "      else:        \n",
    "        md =  str(\"S\" + str(m) + \"\\t\" + str(x[4]).strip()) + \"\\t\" + str(x[0]).strip().replace(' ','') + \"_\" + str(x[1]).strip().replace(' ','') + \"\\t\" + str(x[2]).strip() + \"\\t\" + x[3].strip() + \"\\n\"\n",
    "        g.write(md)\n",
    "\n",
    "    with open(wd_ni_metadata, 'a') as g:\n",
    "      p = re.compile('^Rtc|^BRh[0-3]|Pr[A-Z]|Rh1,Rh3|^IV|^inv')\n",
    "      if (p.match(x[2]) or d.match(x[3]) or iec.match(x[0])):\n",
    "        pass\n",
    "      else:\n",
    "        if c == 1:\n",
    "          g.write(\"\\tLambda_Max\\tSpecies\\tOpsin_Family\\tAccession\\n\")\n",
    "          g.write(\"Bovine\\t500.0000\\tBos_tarus\\tRh1\\tNM_001014890\\n\")\n",
    "\n",
    "        md =  str(\"S\" + str(c) + \"\\t\" + str(x[4]).strip()) + \"\\t\" + str(x[0]).strip().replace(' ','') + \"_\" + str(x[1]).strip().replace(' ','') + \"\\t\" + str(x[2]).strip() + \"\\t\" + x[3].strip() + \"\\n\"\n",
    "        g.write(md)\n",
    "\n",
    "    with open(inv_metadata, 'a') as g:\n",
    "      p = re.compile('^Rtc|^BRh[0-3]|Pr[A-Z]|Rh1,Rh3|^IV|^inv')\n",
    "      if (p.match(x[2]) or iec.match(x[0])):\n",
    "        if q == 1:\n",
    "          g.write(\"\\tLambda_Max\\tSpecies\\tOpsin_Family\\tAccession\\n\")\n",
    "          g.write(\"Squid\\t473.0000\\tTodarodes_pacificus\\tRh1\\tX70498\\n\")\n",
    "\n",
    "        md =  str(\"S\" + str(q) + \"\\t\" + str(x[4]).strip()) + \"\\t\" + str(x[0]).strip().replace(' ','') + \"_\" + str(x[1]).strip().replace(' ','') + \"\\t\" + str(x[2]).strip() + \"\\t\" + x[3].strip() + \"\\n\"\n",
    "        g.write(md)\n",
    "      else:\n",
    "        pass\n",
    "          \n",
    "    with open(sw_metadata, 'a') as g:\n",
    "    #This makes the metadata formatted for a linear regression model.\n",
    "      p = re.compile('^SWS|^UVS')\n",
    "      if p.match(x[2]):\n",
    "        if s == 1:\n",
    "          g.write(\"\\tLambda_Max\\tSpecies\\tOpsin_Family\\tAccession\\n\")\n",
    "          g.write(\"Bovine\\t500.0000\\tBos_taurus\\tRh1\\tNM_001014890\\n\")  \n",
    "        md =  str(\"S\" + str(s) + \"\\t\" + str(x[4]).strip()) + \"\\t\" + str(x[0]).strip().replace(' ','') + \"_\" + str(x[1]).strip().replace(' ','') + \"\\t\" + str(x[2]).strip() + \"\\t\" + x[3].strip() + \"\\n\"\n",
    "        g.write(md)\n",
    "\n",
    "    with open(mw_metadata, 'a') as g:\n",
    "      #This makes the metadata formatted for a linear regression model.\n",
    "      p = re.compile('^MWS|^LWS')\n",
    "      if p.match(x[2]):\n",
    "        if l == 1:\n",
    "          g.write(\"\\tLambda_Max\\tSpecies\\tOpsin_Family\\tAccession\\n\")  \n",
    "          g.write(\"Bovine\\t500.0000\\tBos_taurus\\tRh1\\tNM_001014890\\n\")  \n",
    "        md =  str(\"S\" + str(l) + \"\\t\" + str(x[4]).strip()) + \"\\t\" + str(x[0]).strip().replace(' ','') + \"_\" + str(x[1]).strip().replace(' ','') + \"\\t\" + str(x[2]).strip() + \"\\t\" + x[3].strip() + \"\\n\"\n",
    "        g.write(md)\n",
    "\n",
    "    with open(rh_metadata, 'a') as g:\n",
    "      #This makes the metadata formatted for a linear regression model.\n",
    "      p = re.compile('Rh[0-3]|exoRh')\n",
    "\n",
    "      if p.match(x[2]):\n",
    "        if r == 1:\n",
    "          g.write(\"\\tLambda_Max\\tSpecies\\tOpsin_Family\\tAccession\\n\")\n",
    "          g.write(\"Bovine\\t500.0000\\tBos_taurus\\tRh1\\tNM_001014890\\n\")\n",
    "        if (inv.match(x[2]) or d.match(x[3]) or iec.match(x[0])):\n",
    "          pass\n",
    "        else:  \n",
    "          md =  str(\"S\" + str(r) + \"\\t\" + str(x[4]).strip()) + \"\\t\" + str(x[0]).strip().replace(' ','') + \"_\" + str(x[1]).strip().replace(' ','') + \"\\t\" + str(x[2]).strip() + \"\\t\" + x[3].strip() + \"\\n\"\n",
    "          g.write(md)\n",
    "\n",
    "    with open(nmoc_metadata, 'a') as g:\n",
    "      p = re.compile('[G,A,L,M,F,W,K,Q,E,S,P,V,I,C,Y,H,R,N,D,T][0-9]+[G,A,L,M,F,W,K,Q,E,S,P,V,I,C,Y,H,R,N,D,T]')\n",
    "      if (p.search(x[3]) or \"-\" in x[3]):\n",
    "        pass\n",
    "      else:\n",
    "        if z == 1:\n",
    "          g.write(\"\\tLambda_Max\\tSpecies\\tOpsin_Family\\tAccession\\n\")  \n",
    "          g.write(\"Bovine\\t500.0000\\tBos_taurus\\tRh1\\tNM_001014890\\n\")\n",
    "        if(d.match(x[3])):\n",
    "          pass\n",
    "        else:        \n",
    "          md =  str(\"S\" + str(z) + \"\\t\" + str(x[4]).strip()) + \"\\t\" + str(x[0]).strip().replace(' ','') + \"_\" + str(x[1]).strip().replace(' ','') + \"\\t\" + str(x[2]).strip() + \"\\t\" + x[3].strip() + \"\\n\"\n",
    "          g.write(md)\n",
    "\n",
    "    with open(mut_metadata, 'a') as g:\n",
    "      p = re.compile('[G,A,L,M,F,W,K,Q,E,S,P,V,I,C,Y,H,R,N,D,T][0-9]+[G,A,L,M,F,W,K,Q,E,S,P,V,I,C,Y,H,R,N,D,T]')\n",
    "      if (p.search(x[3]) or \"-\" in x[3]):\n",
    "        if mut == 1:\n",
    "          g.write(\"\\tLambda_Max\\tSpecies\\tOpsin_Family\\tAccession\\n\")  \n",
    "          g.write(\"Bovine\\t500.0000\\tBos_taurus\\tRh1\\tNM_001014890\\n\")\n",
    "        if(d.match(x[3])):\n",
    "          pass\n",
    "        else:        \n",
    "          md =  str(\"M\" + str(mut) + \"\\t\" + str(x[4]).strip()) + \"\\t\" + str(x[0]).strip().replace(' ','') + \"_\" + str(x[1]).strip().replace(' ','') + \"\\t\" + str(x[2]).strip() + \"\\t\" + x[3].strip() + \"\\n\"\n",
    "          g.write(md)\n",
    "      else:\n",
    "        pass"
   ]
  },
  {
   "cell_type": "code",
   "execution_count": null,
   "id": "60e7354f",
   "metadata": {},
   "outputs": [],
   "source": [
    "msp_erg_raw = open('./msp_test_data/msp_erg_raw.txt').readlines()\n",
    "for lines in msp_erg_raw:\n",
    "  with open(wd_output, 'a') as f:\n",
    "    f.write(lines)\n",
    "  with open(wd_ni_output, 'a') as f:\n",
    "    f.write(lines)\n",
    "  with open(rod_output, 'a') as f:\n",
    "    f.write(lines)\n",
    "  with open(nmoc_output, 'a') as f:\n",
    "    f.write(lines)\n",
    "  with open(inv_output, 'a') as f:\n",
    "    f.write(lines)\n",
    "  with open(mws_output, 'a') as f:\n",
    "    f.write(lines)\n",
    "  with open(sws_output, 'a') as f:\n",
    "    f.write(lines)\n"
   ]
  },
  {
   "cell_type": "code",
   "execution_count": null,
   "id": "5334b332",
   "metadata": {},
   "outputs": [],
   "source": [
    "mut_only = open(mut_output).readlines()\n",
    "x = 0\n",
    "for lines in mut_only:\n",
    "  if x <= 1:\n",
    "    if x == 0:\n",
    "      with open(nmoc_output, 'a') as m:\n",
    "        m.write('\\n')\n",
    "    else:\n",
    "      pass\n",
    "    x+=1\n",
    "  else:\n",
    "    with open(nmoc_output, 'a') as m:\n",
    "      m.write(lines)"
   ]
  },
  {
   "attachments": {},
   "cell_type": "markdown",
   "id": "261d0aca",
   "metadata": {},
   "source": [
    "# <font color=red>STEP 2: Align Raw Data and Format for 'deepBreaks'</font>\n",
    "## REMINDER - You will need to change the directory for the 'mafft_exe' variable to the one of your own operating system!\n"
   ]
  },
  {
   "cell_type": "code",
   "execution_count": null,
   "id": "b3d0316e",
   "metadata": {},
   "outputs": [],
   "source": [
    "from Bio.Align.Applications import MafftCommandline\n",
    "from Bio import AlignIO\n",
    "\n",
    "data_split_list = [wd_output,sws_output,mws_output,rod_output,wd_ni_output,inv_output,nmoc_output]\n",
    "output_list = []\n",
    "mafft_exe = 'C:/Users/safra/mafft-win/mafft.bat' \n",
    "\n",
    "for data in data_split_list:\n",
    "    output = f'{data.split(\".\")[0]}_aligned.txt'\n",
    "    mafft_cline = MafftCommandline(mafft_exe, input=f'./{data}')\n",
    "    #print(mafft_cline)\n",
    "    stdout, stderr = mafft_cline()\n",
    "\n",
    "    with open(output, \"w\") as handle:\n",
    "        handle.write(stdout)\n",
    "        #print(handle)\n",
    "    align = AlignIO.read(output, \"fasta\")\n",
    "    output_list.append(f'{output}')\n"
   ]
  },
  {
   "cell_type": "code",
   "execution_count": null,
   "id": "f81289b6",
   "metadata": {},
   "outputs": [],
   "source": [
    "print(output_list)\n",
    "\n",
    "for item in output_list:\n",
    "    output = item.split('.')[0]\n",
    "    print(output)"
   ]
  },
  {
   "cell_type": "code",
   "execution_count": null,
   "id": "2e914c49",
   "metadata": {},
   "outputs": [],
   "source": [
    "#enter list of aligned text files here.\n",
    "inputs = output_list\n",
    "deep_breaks_input_data = []\n",
    "# inputs = ['wds_aligned.txt','wds_ni_aligned.txt','rod_aligned.txt','nmoc_aligned.txt']\n",
    "##enter list of names for desired formatted fasta files here.\n",
    "# output = ['wds_fmt.fasta','wds_ni_fmt.fasta','rod_fmt.fasta','nmoc_fmt.fasta']\n",
    "i=0\n",
    "k = 0\n",
    "for item in inputs:\n",
    "    print(item)\n",
    "    lines = open(inputs[i]).readlines()\n",
    "    output = f'./{inputs[i].split(\".\")[0]}_db_fmt.fasta'\n",
    "    deep_breaks_input_data.append(output)\n",
    "    print(output)\n",
    "    file = open(output, 'w')\n",
    "    m=0\n",
    "    for line in lines:\n",
    "        snip = str(lines[k])\n",
    "        if '>' in snip:\n",
    "            if m == 0:\n",
    "                m+=1\n",
    "            else:\n",
    "                file.write(\"\\n\")\n",
    "            file.write(snip)\n",
    "        else:\n",
    "            entry = \"\"\n",
    "            entry = str(snip.replace(\"\\n\",\"\"))\n",
    "            file.write(entry)\n",
    "        k+=1\n",
    "    k = 0\n",
    "    i+=1\n",
    "    file.close()"
   ]
  },
  {
   "cell_type": "code",
   "execution_count": null,
   "id": "6dc0ff8e",
   "metadata": {},
   "outputs": [],
   "source": [
    "print(deep_breaks_input_data)"
   ]
  },
  {
   "attachments": {},
   "cell_type": "markdown",
   "id": "a2969791",
   "metadata": {},
   "source": [
    "# <font color=red>STEP 3: deepBreaks</font>\n",
    "## THIS IS A LONG SECTION! \n",
    "### STEP 4 doesn't start until Cell 34"
   ]
  },
  {
   "cell_type": "code",
   "execution_count": null,
   "id": "82eed2c5",
   "metadata": {},
   "outputs": [],
   "source": [
    "# importing deepBreaks libraries \n",
    "from deepBreaks.utils import get_models, get_scores, get_params, make_pipeline\n",
    "from deepBreaks.preprocessing import MisCare, ConstantCare, URareCare, CustomOneHotEncoder\n",
    "from deepBreaks.preprocessing import FeatureSelection, CollinearCare\n",
    "from deepBreaks.preprocessing import read_data\n",
    "from deepBreaks.models import model_compare_cv, finalize_top, importance_from_pipe, mean_importance, summarize_results\n",
    "from deepBreaks.visualization import plot_scatter, dp_plot, plot_imp_model, plot_imp_all\n",
    "from deepBreaks.preprocessing import write_fasta\n",
    "import warnings\n",
    "import datetime\n",
    "import os\n",
    "import shutil "
   ]
  },
  {
   "cell_type": "code",
   "execution_count": null,
   "id": "ae93f194",
   "metadata": {},
   "outputs": [],
   "source": [
    "warnings.filterwarnings(\"ignore\")\n",
    "warnings.simplefilter('ignore')"
   ]
  },
  {
   "cell_type": "code",
   "execution_count": null,
   "id": "29f084f8",
   "metadata": {},
   "outputs": [],
   "source": [
    "# defining user params, file pathes, analysis type\n",
    "\n",
    "# path to sequences\n",
    "seqFileName = './vizphiz_data_splits_2023-08-07_12-45-05/nmoc_aligned_db_fmt.fasta' \n",
    "#find way to automatically save aligned file to report directory and then have unaligned sequence align to file via mafft wapper and thennn run the hot-encode step to query model on correctly formatted seq.\n",
    "# path to metadata\n",
    "metaDataFileName = './vizphiz_data_splits_2023-08-07_12-45-05/nmoc_meta.tsv' \n",
    "\n",
    "# name of the phenotype\n",
    "mt = 'Lambda_Max'\n",
    "\n",
    "# type of the sequences\n",
    "seq_type = 'aa'\n",
    "\n",
    "# type of the analysis if it is a classification model, then we put cl instead of reg\n",
    "ana_type = 'reg' \n"
   ]
  },
  {
   "cell_type": "code",
   "execution_count": null,
   "id": "d592e45d",
   "metadata": {},
   "outputs": [],
   "source": [
    "# making a unique directory for saving the reports of the analysis\n",
    "print('direcory preparation')\n",
    "dt_label = datetime.datetime.now().strftime('%Y-%m-%d_%H-%M-%S')\n",
    "seqFile = seqFileName.split('/')[2]\n",
    "#print(seqFile)\n",
    "seqFile = seqFile.split('.')[0]\n",
    "#print(seqFile)\n",
    "report_dir = str(seqFile +'_' + mt + '_' + dt_label)\n",
    "os.makedirs(report_dir)"
   ]
  },
  {
   "cell_type": "code",
   "execution_count": null,
   "id": "eac0ba03",
   "metadata": {
    "scrolled": true
   },
   "outputs": [],
   "source": [
    "%%time\n",
    "print('reading meta-data')\n",
    "# importing metadata\n",
    "meta_data = read_data(metaDataFileName, seq_type = None, is_main=False)\n",
    "# importing sequences data\n",
    "print('reading fasta file')\n",
    "\n",
    "tr = read_data(seqFileName, seq_type = seq_type, is_main=True, gap_threshold=0.5)\n",
    "msp = tr.copy()\n",
    "\n",
    "shutil.copy2(f'{seqFileName}',report_dir)\n",
    "write_fasta(dat = tr, fasta_file = f'{seqFile}_gap_dropped.fasta' , report_dir = report_dir)\n",
    " \n"
   ]
  },
  {
   "cell_type": "code",
   "execution_count": null,
   "id": "17b2dce0",
   "metadata": {},
   "outputs": [],
   "source": [
    "tr = tr.merge(meta_data.loc[:, mt],  left_index=True, right_index=True)\n",
    "tr.shape"
   ]
  },
  {
   "cell_type": "code",
   "execution_count": null,
   "id": "bb1d0b9e",
   "metadata": {},
   "outputs": [],
   "source": [
    "tr.head()"
   ]
  },
  {
   "cell_type": "code",
   "execution_count": null,
   "id": "185771ab",
   "metadata": {},
   "outputs": [],
   "source": [
    "sv_msp = tr.shape[0]\n",
    "print(sv_msp)"
   ]
  },
  {
   "cell_type": "code",
   "execution_count": null,
   "id": "085281b5",
   "metadata": {},
   "outputs": [],
   "source": [
    "mut = msp.iloc[sv_msp+35:].copy()\n",
    "mut.head()"
   ]
  },
  {
   "cell_type": "code",
   "execution_count": null,
   "id": "30b252ef",
   "metadata": {},
   "outputs": [],
   "source": [
    "msp = msp.iloc[sv_msp:sv_msp+35].copy()\n",
    "msp.head()"
   ]
  },
  {
   "cell_type": "code",
   "execution_count": null,
   "id": "e45e688e",
   "metadata": {},
   "outputs": [],
   "source": [
    "msp.shape"
   ]
  },
  {
   "cell_type": "code",
   "execution_count": null,
   "id": "2213fa10",
   "metadata": {},
   "outputs": [],
   "source": [
    "#msp_meta_data = read_data('./msp_test_data/erg_msp_meta.tsv', seq_type = None, is_main=False)\n",
    "#msp.merge(msp_meta_data.loc[:, mt],  left_index=True, right_index=True)\n",
    "#msp.shape"
   ]
  },
  {
   "cell_type": "code",
   "execution_count": null,
   "id": "7568a83e",
   "metadata": {},
   "outputs": [],
   "source": [
    "import numpy as np\n",
    "import csv\n",
    "import pandas as pd"
   ]
  },
  {
   "cell_type": "code",
   "execution_count": null,
   "id": "2ed894d9",
   "metadata": {},
   "outputs": [],
   "source": [
    "#sample_n = 100\n",
    "#n = 0\n",
    "#while n < 1:\n",
    "    #drop_indices = np.random.choice(tr.index, sample_n, replace=False)\n",
    "    #print(drop_indices)\n",
    "    #drop_indices = np.append(drop_indices,['Bovine'])\n",
    "    #print(drop_indices)\n",
    "    #if 'Bovine' in drop_indices:\n",
    "        #pass\n",
    "    #else:\n",
    "        #n+=1\n"
   ]
  },
  {
   "cell_type": "code",
   "execution_count": null,
   "id": "77544a89",
   "metadata": {},
   "outputs": [],
   "source": [
    "#unseen = tr.loc[drop_indices].copy()\n",
    "#umd = unseen.loc[:, mt].values\n",
    "\n",
    "#unseen.drop(mt, axis=1, inplace=True)\n",
    "#tr = tr.drop(drop_indices)\n"
   ]
  },
  {
   "cell_type": "code",
   "execution_count": null,
   "id": "a7b41bfb",
   "metadata": {},
   "outputs": [],
   "source": [
    "#base_test = meta_data.loc[drop_indices].copy()\n",
    "#base_test.head()"
   ]
  },
  {
   "cell_type": "code",
   "execution_count": null,
   "id": "44b7b45d",
   "metadata": {},
   "outputs": [],
   "source": [
    "y = tr.loc[:, mt].values\n",
    "tr.drop(mt, axis=1, inplace=True)\n",
    "print('Shape of data is: ', tr.shape)"
   ]
  },
  {
   "cell_type": "code",
   "execution_count": null,
   "id": "2877bf4a",
   "metadata": {},
   "outputs": [],
   "source": [
    "bovine = tr.loc['Bovine'].copy()\n",
    "\n",
    "#print(bovine)\n",
    "\n",
    "bovine.to_csv(path_or_buf= f'{report_dir}/bovine.csv',index = True,mode=\"w\")"
   ]
  },
  {
   "cell_type": "code",
   "execution_count": null,
   "id": "33505136",
   "metadata": {},
   "outputs": [],
   "source": [
    "#unseen.head()"
   ]
  },
  {
   "attachments": {},
   "cell_type": "markdown",
   "id": "69979653",
   "metadata": {},
   "source": [
    "**Attention**: metadata and sequences data should have the names as their row names and for each sequence their must be a value in the meta data file."
   ]
  },
  {
   "cell_type": "code",
   "execution_count": null,
   "id": "2ff4b3d3",
   "metadata": {},
   "outputs": [],
   "source": [
    "print('metadata looks like this:')\n",
    "meta_data.head()"
   ]
  },
  {
   "cell_type": "code",
   "execution_count": null,
   "id": "943fb6b6",
   "metadata": {},
   "outputs": [],
   "source": [
    "print('sequence data looks like this:')\n",
    "tr.head()"
   ]
  },
  {
   "attachments": {},
   "cell_type": "markdown",
   "id": "140f567b",
   "metadata": {},
   "source": [
    "### Preprocessing\n",
    "In this step, we do all these steps:\n",
    "1. dropping columns with a number of missing values above a certain threshold  \n",
    "2. dropping zero entropy columns  \n",
    "3. imputing missing values with the mode of that column  \n",
    "4. replacing cases with a frequency below a threshold (default 1.5%) with the mode of that column\n",
    "5. dropping zero entropy columns\n",
    "6. use statistical tests (each position against the phenotype) and drop columns with p-values below a threshold (default 0.25)\n",
    "7. one-hot encode the remaining columns\n",
    "8. calculate the pair-wise distance matrix for all of the columns\n",
    "9. use the distance matrix for DBSCAN and cluster the correlated positions together\n",
    "10. keep only one column (closes to center of each cluster) for each group and drop the rest from the training data set"
   ]
  },
  {
   "cell_type": "code",
   "execution_count": null,
   "id": "c23e44e7",
   "metadata": {},
   "outputs": [],
   "source": [
    "prep_pipeline = make_pipeline(\n",
    "    steps=[\n",
    "        ('mc', MisCare(missing_threshold=0.05)),\n",
    "        ('cc', ConstantCare()),\n",
    "        ('ur', URareCare(threshold=0.025)),\n",
    "        ('cc2', ConstantCare()),\n",
    "        ('one_hot', CustomOneHotEncoder()),\n",
    "        ('feature_selection', FeatureSelection(model_type=ana_type, alpha=0.10, keep=False)),\n",
    "        ('collinear_care', CollinearCare(dist_method='correlation', threshold=0.05, keep=False))\n",
    "    ])"
   ]
  },
  {
   "cell_type": "code",
   "execution_count": null,
   "id": "2e6e97be",
   "metadata": {},
   "outputs": [],
   "source": [
    "%%time\n",
    "report, top = model_compare_cv(X=tr, y=y, preprocess_pipe=prep_pipeline,\n",
    "                               models_dict=get_models(ana_type=ana_type),\n",
    "                               scoring=get_scores(ana_type=ana_type),\n",
    "                               report_dir=report_dir,\n",
    "                               cv=12, ana_type=ana_type, cache_dir=report_dir)"
   ]
  },
  {
   "cell_type": "markdown",
   "id": "af902297",
   "metadata": {},
   "source": [
    "MAE = Mean Absolute Error\n",
    "\n",
    "MSE = Mean Squared Error\n",
    "\n",
    "RMSE = Rooted Mean Square Error\n",
    "\n",
    "MAPE = Mean Absolute % Error - the average magnitude of error produced by a model, or how far off predictions are on average. A MAPE value of 20% means that the average absolute percentage difference between the predictions and the actuals is 20%"
   ]
  },
  {
   "cell_type": "code",
   "execution_count": null,
   "id": "263f4a4e",
   "metadata": {},
   "outputs": [],
   "source": [
    "report"
   ]
  },
  {
   "cell_type": "code",
   "execution_count": null,
   "id": "deda54a6",
   "metadata": {},
   "outputs": [],
   "source": [
    "prep_pipeline = make_pipeline(\n",
    "    steps=[\n",
    "        ('mc', MisCare(missing_threshold=0.05)),\n",
    "        ('cc', ConstantCare()),\n",
    "        ('ur', URareCare(threshold=0.025)),\n",
    "        ('cc2', ConstantCare()),\n",
    "        ('one_hot', CustomOneHotEncoder()),\n",
    "        ('feature_selection', FeatureSelection(model_type=ana_type, alpha=0.10, keep=True)),\n",
    "        ('collinear_care', CollinearCare(dist_method='correlation', threshold=0.05, keep=True))\n",
    "    ])"
   ]
  },
  {
   "cell_type": "code",
   "execution_count": null,
   "id": "df108475",
   "metadata": {},
   "outputs": [],
   "source": [
    "modified_top = []\n",
    "for model in top:\n",
    "    modified_top.append(make_pipeline(steps=[('prep', prep_pipeline), model.steps[-1]]))"
   ]
  },
  {
   "cell_type": "code",
   "execution_count": null,
   "id": "45d838d9",
   "metadata": {},
   "outputs": [],
   "source": [
    "top_model_list = []\n",
    "for mod_nm in top:\n",
    "    my_top_models = str(mod_nm[1:])\n",
    "    my_top_models = my_top_models.split(\"'\")[1]\n",
    "    top_model_list.append(my_top_models)\n",
    "    #print(my_top_models)"
   ]
  },
  {
   "cell_type": "code",
   "execution_count": null,
   "id": "c7005603",
   "metadata": {},
   "outputs": [],
   "source": [
    "modified_top[0]"
   ]
  },
  {
   "cell_type": "code",
   "execution_count": null,
   "id": "0608d367",
   "metadata": {},
   "outputs": [],
   "source": [
    "%%time\n",
    "top = finalize_top(X=tr, y=y, top_models=modified_top, grid_param=get_params(),report_dir=report_dir, cv=10)\n"
   ]
  },
  {
   "cell_type": "code",
   "execution_count": null,
   "id": "3738c4f0",
   "metadata": {},
   "outputs": [],
   "source": [
    "%%time\n",
    "sr = summarize_results(top_models=top, report_dir=report_dir)"
   ]
  },
  {
   "cell_type": "code",
   "execution_count": null,
   "id": "09ee6933",
   "metadata": {},
   "outputs": [],
   "source": [
    "sr.head()"
   ]
  },
  {
   "cell_type": "code",
   "execution_count": null,
   "id": "34bce71f",
   "metadata": {},
   "outputs": [],
   "source": [
    "scatter_plot = plot_scatter(summary_result=sr, report_dir=report_dir)"
   ]
  },
  {
   "cell_type": "code",
   "execution_count": null,
   "id": "0ff9bb99",
   "metadata": {},
   "outputs": [],
   "source": [
    "%%time\n",
    "mean_imp = mean_importance(top, report_dir=report_dir)"
   ]
  },
  {
   "cell_type": "code",
   "execution_count": null,
   "id": "3e644ed3",
   "metadata": {},
   "outputs": [],
   "source": [
    "dp_plot(importance=mean_imp,imp_col='mean', model_name='mean', report_dir=report_dir)"
   ]
  },
  {
   "cell_type": "code",
   "execution_count": null,
   "id": "848ed0a5",
   "metadata": {},
   "outputs": [],
   "source": [
    "tr = prep_pipeline[:4].fit_transform(tr)"
   ]
  },
  {
   "cell_type": "code",
   "execution_count": null,
   "id": "76f6a34e",
   "metadata": {},
   "outputs": [],
   "source": [
    "for model in top:\n",
    "    model_name = model.steps[-1][0]\n",
    "    dp_plot(importance=importance_from_pipe(model),\n",
    "            imp_col='standard_value',\n",
    "            model_name = model_name, report_dir=report_dir)\n",
    "    \n",
    "    plot_imp_model(importance=importance_from_pipe(model), \n",
    "               X_train=tr, y_train=y, model_name=model_name,\n",
    "                   meta_var='meta', model_type=ana_type, report_dir=report_dir)"
   ]
  },
  {
   "cell_type": "code",
   "execution_count": null,
   "id": "7520474c",
   "metadata": {},
   "outputs": [],
   "source": [
    "pl = plot_imp_all(final_models=top,\n",
    "                  X_train=tr, y_train=y,\n",
    "                  model_type = ana_type,\n",
    "                  report_dir=report_dir, max_plots=100,\n",
    "                  figsize=(2.5, 3))"
   ]
  },
  {
   "cell_type": "code",
   "execution_count": null,
   "id": "4fff6b59",
   "metadata": {},
   "outputs": [],
   "source": [
    "from deepBreaks.utils import load_obj\n",
    "import joblib\n",
    "import pandas as pd\n",
    "import matplotlib.pyplot as plt\n",
    "import matplotlib.colors as mcolors\n",
    "from sklearn.metrics import mean_absolute_error\n",
    "from sklearn.metrics import mean_absolute_percentage_error\n",
    "from sklearn.metrics import mean_squared_error\n",
    "load_rf = load_obj(f'{report_dir}/BayesianRidge.pkl')"
   ]
  },
  {
   "cell_type": "code",
   "execution_count": null,
   "id": "c553a92d",
   "metadata": {},
   "outputs": [],
   "source": [
    "print(f'Here is a list of your top performing models to test...\\n{top_model_list}')"
   ]
  },
  {
   "cell_type": "code",
   "execution_count": null,
   "id": "559660c4",
   "metadata": {},
   "outputs": [],
   "source": [
    "predictions = load_rf.predict(mut)\n",
    "print(predictions)\n"
   ]
  },
  {
   "cell_type": "code",
   "execution_count": null,
   "id": "515e3d2d",
   "metadata": {},
   "outputs": [],
   "source": [
    "mut_meta = pd.read_csv(mut_metadata, sep=\"\\t\", index_col = 0)\n",
    "mut_meta = mut_meta.drop(mut_meta.index[0])\n",
    "mut_meta.head()"
   ]
  },
  {
   "cell_type": "code",
   "execution_count": null,
   "id": "d0462473",
   "metadata": {},
   "outputs": [],
   "source": [
    "mut_meta['Prediction'] = predictions\n",
    "mut_meta['Difference'] = mut_meta['Prediction'] - mut_meta['Lambda_Max']\n",
    "\n",
    "mut_meta.to_csv(path_or_buf= f'{report_dir}/mut_results.csv',index = 'Feature',mode=\"w\")\n",
    "muta_meta = mut_meta[['Species', 'Opsin_Family', 'Accession','Lambda_Max','Prediction','Difference']]\n",
    "\n",
    "true_lmax = mut_meta['Lambda_Max']\n",
    "\n",
    "mut_meta.head()"
   ]
  },
  {
   "cell_type": "code",
   "execution_count": null,
   "id": "db317e1c",
   "metadata": {},
   "outputs": [],
   "source": [
    "#Can use the following code block to drop outliers\n",
    "\n",
    "#index_list = []\n",
    "#for i in mut_meta.index:\n",
    "    #if mut_meta['Difference'][i] >= 100:\n",
    "        #print(mut_meta.loc[i].indedx())\n",
    "        #index_list.append[mut_meta.index[i]]\n",
    "        #print(mut_meta.index[i])\n",
    "\n",
    "#mut_meta_filtered = mut_meta[mut_meta['Difference'] <= 100]\n",
    "#print(mut_meta_filtered.shape[0])"
   ]
  },
  {
   "cell_type": "code",
   "execution_count": null,
   "id": "9309bd2a",
   "metadata": {},
   "outputs": [],
   "source": [
    "plt.rcParams[\"figure.figsize\"] = [7.50, 4.00]\n",
    "plt.title(\"$λ_{max}$ Predictions for Unseen Mutant Data\")\n",
    "plt.scatter(true_lmax, predictions, c=predictions, ec = 'k', edgecolors='k', s = 35)\n",
    "plt.plot(true_lmax, true_lmax, c = 'k', linewidth = '1.0', ls = '--', dashes = (1,3))\n",
    "plt.xlabel('Known $λ_{max}$ (nm)')\n",
    "plt.ylabel('Predicted $λ_{max}$ (nm)')\n",
    "plt.annotate(f\"$R^2$ = {load_rf.score(mut, true_lmax):.3f}\",(min(true_lmax), (max(true_lmax) - ((max(true_lmax) - min(true_lmax)) *  0.15))), fontsize = 20, c = 'k')\n",
    "#plt.xticks(range(min(umd), max(umd)+1))\n",
    "fileout = f'{report_dir}/mut_test.pdf'\n",
    "plt.savefig(fileout)\n",
    "plt.show()\n",
    "plt.clf()\n",
    "plt.show()\n"
   ]
  },
  {
   "cell_type": "code",
   "execution_count": null,
   "id": "170bc25e",
   "metadata": {},
   "outputs": [],
   "source": [
    "model_testing_report = f'{report_dir}/model_testing report.tsv'\n",
    "\n",
    "base_rsq = load_rf.score(mut, true_lmax)\n",
    "print(base_rsq)\n",
    "\n",
    "base_mae = mean_absolute_error(predictions,true_lmax)\n",
    "print(base_mae)\n",
    "\n",
    "base_mape = mean_absolute_percentage_error(predictions,true_lmax)\n",
    "print(base_mape)\n",
    "\n",
    "base_sqe = mean_squared_error(predictions,true_lmax)\n",
    "print(base_sqe)\n",
    "\n",
    "base_rsqe = mean_squared_error(predictions,true_lmax, squared = False)\n",
    "print(base_rsqe)\n",
    "\n",
    "with open(model_testing_report , 'w') as f:\n",
    "    f.write(f'Base Model R^2\\tBase Model MAE\\tBase Model MAPE\\tBase Model SQE\\tBase Model RSQE\\n')\n",
    "    f.write(f'{str(base_rsq)}\\t{str(base_mae)}\\t{str(base_mape)}\\t{str(base_sqe)}\\t{str(base_rsqe)}')\n",
    "\n",
    "\n"
   ]
  },
  {
   "cell_type": "code",
   "execution_count": null,
   "id": "c11e5a46",
   "metadata": {},
   "outputs": [],
   "source": [
    "msp_predictions = load_rf.predict(msp)\n",
    "print(msp_predictions)"
   ]
  },
  {
   "cell_type": "code",
   "execution_count": null,
   "id": "5cec3427",
   "metadata": {},
   "outputs": [],
   "source": [
    "meta = \"./msp_test_data/erg_msp_meta.tsv\"\n",
    "msp_meta = pd.read_csv(meta, sep=\"\\t\", index_col = False)\n",
    "msp_meta.head()"
   ]
  },
  {
   "cell_type": "code",
   "execution_count": null,
   "id": "059c6109",
   "metadata": {},
   "outputs": [],
   "source": [
    "lmax_msp = (msp_meta['Lambda_Max'])\n",
    "lm = []\n",
    "for i in lmax_msp:\n",
    "    lm.append(float(i))\n"
   ]
  },
  {
   "cell_type": "code",
   "execution_count": null,
   "id": "be719750",
   "metadata": {},
   "outputs": [],
   "source": [
    "columns = ['Species','Accession','Lambda_Max','Predicted','Differnce']\n",
    "msp_test = pd.DataFrame(index=msp.index, columns = columns)\n",
    "msp_test['Predicted'] = msp_predictions\n",
    "msp_test['Species'][0:31] = msp_meta['Species']\n",
    "msp_test['Accession'][0:31] = msp_meta['Accession']\n",
    "\n",
    "msp_test.head()"
   ]
  },
  {
   "cell_type": "code",
   "execution_count": null,
   "id": "150b663c",
   "metadata": {},
   "outputs": [],
   "source": [
    "\n",
    "msp_test['Lambda_Max'][0:31] = lm\n",
    "msp_test['Differnce'] = msp_test['Predicted'] - msp_test['Lambda_Max']\n",
    "msp_test.head()\n"
   ]
  },
  {
   "cell_type": "code",
   "execution_count": null,
   "id": "a0b8d538",
   "metadata": {},
   "outputs": [],
   "source": [
    "msp_test.to_csv(path_or_buf= f'{report_dir}/msp_test_results.csv',index = 'Feature',mode=\"w\")"
   ]
  },
  {
   "cell_type": "code",
   "execution_count": null,
   "id": "1dfc4e37",
   "metadata": {},
   "outputs": [],
   "source": [
    "plt.rcParams[\"figure.autolayout\"] = True\n",
    "plt.rcParams[\"figure.figsize\"] = [7.50, 4.00]\n",
    "plt.title(\"$λ_{max}$ Predictions for Invertebrate MSP Data\")\n",
    "plt.scatter(msp_test['Lambda_Max'][0:31], msp_predictions[0:31], c=msp_predictions[0:31], ec = 'k', edgecolors='k', s = 35)\n",
    "plt.plot(msp_test['Lambda_Max'][0:31], msp_test['Lambda_Max'][0:31], c = 'k', linewidth = '1.0', ls = '--', dashes = (1,3))\n",
    "plt.xlabel('Known $λ_{max}$ (nm)')\n",
    "plt.ylabel('Predicted $λ_{max}$ (nm)')\n",
    "plt.annotate(f\"$R^2$ = {load_rf.score(msp[0:31], msp_test['Lambda_Max'][0:31]):.3f}\",(325, 535), fontsize = 20, c = 'k')\n",
    "fileout = f'{report_dir}/msp_dp.pdf'\n",
    "plt.savefig(fileout)\n",
    "plt.show()"
   ]
  },
  {
   "cell_type": "code",
   "execution_count": null,
   "id": "9acfaac6",
   "metadata": {},
   "outputs": [],
   "source": [
    "msp_rsq = load_rf.score(msp[0:31], msp_test['Lambda_Max'][0:31])\n",
    "#print(msp_rsq)\n",
    "msp_mae = mean_absolute_error(msp_test['Predicted'][0:31], msp_test['Lambda_Max'][0:31])\n",
    "#print(msp_mae)\n",
    "msp_mape = mean_absolute_percentage_error(msp_test['Predicted'][0:31], msp_test['Lambda_Max'][0:31])\n",
    "#print(msp_mape)\n",
    "msp_sqe = mean_squared_error(msp_test['Predicted'][0:31], msp_test['Lambda_Max'][0:31])\n",
    "#print(msp_sqe)\n",
    "msp_rsqe = mean_squared_error(msp_test['Predicted'][0:31], msp_test['Lambda_Max'][0:31], squared = False)\n",
    "#print(msp_rsqe)\n",
    "with open(model_testing_report , 'a') as f:\n",
    "    f.write(f'\\nMSP Model Test R^2\\tMAE\\tMAPE\\tSQE\\tRSQE\\n')\n",
    "    f.write(f'{str(msp_rsq)}\\t{str(msp_mae)}\\t{str(msp_mape)}\\t{str(msp_sqe)}\\t{str(msp_rsqe)}')\n"
   ]
  },
  {
   "cell_type": "code",
   "execution_count": null,
   "id": "db12152f",
   "metadata": {},
   "outputs": [],
   "source": [
    "import os\n",
    "import subprocess\n",
    "\n",
    "i = 0\n",
    "mafft_exe = 'C:/Users/safra/mafft-win/mafft.bat'\n",
    "seq_add = 'mutant_seqs.fasta'\n",
    "\n",
    "for ref_ali in ref_ali_list:\n",
    "    try:\n",
    "        mut_ali = f'{ref_ali[2:].split(\".\")[0]}_mutant_aligned.fasta'\n",
    "        print(mut_ali)\n",
    "        cmd = [mafft_exe, '--add', seq_add, '--keeplength', ref_ali , '>', mut_ali ]\n",
    "        aligner = subprocess.Popen(cmd, stdout=subprocess.PIPE, stderr=subprocess.PIPE)\n",
    "        out_put = aligner.communicate()[0].decode('utf8')\n",
    "        \n",
    "        print(out_put)\n",
    "        ref_copy = read_data( f'./{mut_ali}', seq_type = seq_type, is_main=True, gap_threshold=0.5)\n",
    "        print(mut_test)\n",
    "        mut_test = ref_copy\n",
    "        meta_data = read_data(ref_meta_list[i], seq_type = None, is_main=False)\n",
    "\n",
    "        ref_copy = ref_copy.merge(meta_data.loc[:, mt],  left_index=True, right_index=True)\n",
    "        last_seq = ref_copy.shape[0]\n",
    "        print(ref_copy.shape)\n",
    "        print(last_seq)\n",
    "        mut_test = mut_test.iloc[last_seq:].copy()\n",
    "        print(mut_test)\n",
    "\n",
    "        load_mod = load_obj(ref_mod_list[i])\n",
    "        print(load_mod)\n",
    "        predictions = load_mod.predict(mut_test)\n",
    "\n",
    "        mut = pd.DataFrame(index=mut_test.index)\n",
    "        mut['Prediction'] = predictions\n",
    "        mut.to_csv(path_or_buf= f'{mut_ali}_predictions.csv',mode=\"w\")\n",
    "    except:\n",
    "        pass\n",
    "    i+=1"
   ]
  },
  {
   "attachments": {},
   "cell_type": "markdown",
   "id": "08805113",
   "metadata": {},
   "source": [
    "# <font color=red>STEP 4: Translate Candidate STSs</font> \n",
    "## Optional step IF running the classifier model, but could still be useful.\n",
    "### To find CSTSs, got to the deepBreaks output folder and find the excel sheet 'avg_top_models_feature_importance'\n",
    "### Sort the top model's feature importance column by 'largest-to-smallest' and take x# of those positions."
   ]
  },
  {
   "cell_type": "code",
   "execution_count": null,
   "id": "6a19a8c9",
   "metadata": {},
   "outputs": [],
   "source": [
    "import pandas as pd\n",
    "import os"
   ]
  },
  {
   "cell_type": "code",
   "execution_count": null,
   "id": "984c98b2",
   "metadata": {},
   "outputs": [],
   "source": [
    "#STEP 4: Translate Candidate STSs \n",
    "#Optional step IF running the classifier model, but could still be useful.\n",
    "#To find CSTSs, got to the deepBreaks output folder and find the excel sheet 'avg_top_models_feature_importance'\n",
    "#Sort the top model's feature importance column by 'largest-to-smallest' and take x# of those positions.\n",
    "m = 0\n",
    "tm = ''\n",
    "k=0\n",
    "gaps=0\n",
    "#import importance_report.csv from report_dir\n",
    "true_pos = []\n",
    "aa = []\n",
    "tmd = []\n",
    "\n",
    "df = pd.read_csv(f'{report_dir}\\importance_report.csv')\n",
    "\n",
    "#take the list of important sites and translate them to the bovine standard equivalent, we do this by taking the site number and subtracting the number of '-' between the start of the sequence and the desired site. \n",
    "for rows in bovine.values:  \n",
    "    rows = str(rows)\n",
    "    #print(rows)\n",
    "    if rows == 'nan':\n",
    "    #We want to write the 'true_pos', 'aa', and 'TMD' to the 'importance_report' csv file\n",
    "        gaps += 1\n",
    "        k += 1\n",
    "        true_pos.append('NA')\n",
    "        aa.append('-')\n",
    "        tmd.append('NA')\n",
    "    else:\n",
    "        #print(\"The number of gaps is \" + str(gaps))\n",
    "        k+=1\n",
    "        trans_site = k - gaps\n",
    "\n",
    "        if trans_site in range(39,66):\n",
    "            tm = '1'\n",
    "        elif trans_site in range(3,38):\n",
    "            tm = 'N-Termina'\n",
    "        elif trans_site in range(72,100):\n",
    "            tm = '2'\n",
    "        elif trans_site in range(110,141):\n",
    "            tm = '3'\n",
    "        elif trans_site in range(151,174):\n",
    "            tm = '4'\n",
    "        elif trans_site in range(200,231):\n",
    "            tm = '5'\n",
    "        elif trans_site in range(245,276):\n",
    "            tm = '6'\n",
    "        elif trans_site in range(285,311):\n",
    "            tm = '7'\n",
    "        else:\n",
    "            tm = 'NA'\n",
    "        \n",
    "        true_pos.append(str(trans_site))\n",
    "        aa.append(rows)\n",
    "        tmd.append(tm)\n",
    "true_pos.pop()\n",
    "aa.pop()\n",
    "tmd.pop()\n",
    "\n",
    "df['true_position'] = true_pos\n",
    "df['TMD'] = tmd\n",
    "df['amino_acid'] = aa\n",
    "\n",
    "df.to_csv(path_or_buf= os.path.join(report_dir,r'importance_report.csv'),index = 'Feature',mode=\"w\")\n",
    "df.head()\n"
   ]
  }
 ],
 "metadata": {
  "kernelspec": {
   "display_name": "deepBreaks_altenv",
   "language": "python",
   "name": "python3"
  },
  "language_info": {
   "codemirror_mode": {
    "name": "ipython",
    "version": 3
   },
   "file_extension": ".py",
   "mimetype": "text/x-python",
   "name": "python",
   "nbconvert_exporter": "python",
   "pygments_lexer": "ipython3",
   "version": "3.9.16"
  },
  "vscode": {
   "interpreter": {
    "hash": "1566c31c90cd32f196ccfa15812cd8e8608767ea4549b0419bac2fea141e189a"
   }
  }
 },
 "nbformat": 4,
 "nbformat_minor": 5
}
