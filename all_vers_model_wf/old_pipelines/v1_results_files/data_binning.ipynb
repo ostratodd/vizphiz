{
 "cells": [
  {
   "cell_type": "code",
   "execution_count": 89,
   "metadata": {},
   "outputs": [],
   "source": [
    "import pandas as pd\n",
    "import jenkspy \n",
    "from matplotlib import pyplot as plt\n"
   ]
  },
  {
   "cell_type": "code",
   "execution_count": 90,
   "metadata": {},
   "outputs": [
    {
     "data": {
      "text/html": [
       "<div>\n",
       "<style scoped>\n",
       "    .dataframe tbody tr th:only-of-type {\n",
       "        vertical-align: middle;\n",
       "    }\n",
       "\n",
       "    .dataframe tbody tr th {\n",
       "        vertical-align: top;\n",
       "    }\n",
       "\n",
       "    .dataframe thead th {\n",
       "        text-align: right;\n",
       "    }\n",
       "</style>\n",
       "<table border=\"1\" class=\"dataframe\">\n",
       "  <thead>\n",
       "    <tr style=\"text-align: right;\">\n",
       "      <th></th>\n",
       "      <th>hetid</th>\n",
       "      <th>Genus</th>\n",
       "      <th>Species</th>\n",
       "      <th>LambdaMax</th>\n",
       "    </tr>\n",
       "  </thead>\n",
       "  <tbody>\n",
       "    <tr>\n",
       "      <th>0</th>\n",
       "      <td>1</td>\n",
       "      <td>Tachyglossus</td>\n",
       "      <td>aculeatus</td>\n",
       "      <td>497.9</td>\n",
       "    </tr>\n",
       "    <tr>\n",
       "      <th>1</th>\n",
       "      <td>2</td>\n",
       "      <td>Tachyglossus</td>\n",
       "      <td>aculeatus</td>\n",
       "      <td>503.8</td>\n",
       "    </tr>\n",
       "    <tr>\n",
       "      <th>2</th>\n",
       "      <td>3</td>\n",
       "      <td>Tachyglossus</td>\n",
       "      <td>aculeatus</td>\n",
       "      <td>498.0</td>\n",
       "    </tr>\n",
       "    <tr>\n",
       "      <th>3</th>\n",
       "      <td>4</td>\n",
       "      <td>Tachyglossus</td>\n",
       "      <td>aculeatus</td>\n",
       "      <td>499.4</td>\n",
       "    </tr>\n",
       "    <tr>\n",
       "      <th>4</th>\n",
       "      <td>5</td>\n",
       "      <td>Bos</td>\n",
       "      <td>taurus</td>\n",
       "      <td>500.0</td>\n",
       "    </tr>\n",
       "  </tbody>\n",
       "</table>\n",
       "</div>"
      ],
      "text/plain": [
       "   hetid         Genus    Species  LambdaMax\n",
       "0      1  Tachyglossus  aculeatus      497.9\n",
       "1      2  Tachyglossus  aculeatus      503.8\n",
       "2      3  Tachyglossus  aculeatus      498.0\n",
       "3      4  Tachyglossus  aculeatus      499.4\n",
       "4      5           Bos     taurus      500.0"
      ]
     },
     "execution_count": 90,
     "metadata": {},
     "output_type": "execute_result"
    }
   ],
   "source": [
    "df = pd.read_csv('ClassHistogram_V2.csv')\n",
    "df.head(5) "
   ]
  },
  {
   "cell_type": "code",
   "execution_count": 91,
   "metadata": {},
   "outputs": [
    {
     "name": "stdout",
     "output_type": "stream",
     "text": [
      "[0.0, 0.0, 385.0, 431.0, 475.0, 521.0, 584.0]\n",
      "[0.0, 0.0, 372.0, 398.0, 425.0, 453.0, 476.0, 493.5, 506.0, 521.0, 545.0, 584.0]\n",
      "[0.0, 0.0, 367.0, 383.0, 398.0, 412.0, 425.0, 444.0, 458.0, 474.0, 486.0, 495.5, 506.0, 521.0, 539.0, 556.0, 584.0]\n"
     ]
    }
   ],
   "source": [
    "labels = list(range(1,16))\n",
    "five_classes = jenkspy.jenks_breaks(df['LambdaMax'], n_classes=6)\n",
    "print(five_classes)\n",
    "ten_classes = jenkspy.jenks_breaks(df['LambdaMax'], n_classes=11)\n",
    "print(ten_classes)\n",
    "fifteen_classes = jenkspy.jenks_breaks(df['LambdaMax'], n_classes=16)\n",
    "print(fifteen_classes)"
   ]
  },
  {
   "cell_type": "code",
   "execution_count": 93,
   "metadata": {},
   "outputs": [
    {
     "data": {
      "text/html": [
       "<div>\n",
       "<style scoped>\n",
       "    .dataframe tbody tr th:only-of-type {\n",
       "        vertical-align: middle;\n",
       "    }\n",
       "\n",
       "    .dataframe tbody tr th {\n",
       "        vertical-align: top;\n",
       "    }\n",
       "\n",
       "    .dataframe thead th {\n",
       "        text-align: right;\n",
       "    }\n",
       "</style>\n",
       "<table border=\"1\" class=\"dataframe\">\n",
       "  <thead>\n",
       "    <tr style=\"text-align: right;\">\n",
       "      <th></th>\n",
       "      <th>hetid</th>\n",
       "      <th>Genus</th>\n",
       "      <th>Species</th>\n",
       "      <th>LambdaMax</th>\n",
       "      <th>bin_cut_break5</th>\n",
       "      <th>bin_cut_break10</th>\n",
       "      <th>bin_cut_break15</th>\n",
       "    </tr>\n",
       "  </thead>\n",
       "  <tbody>\n",
       "    <tr>\n",
       "      <th>0</th>\n",
       "      <td>1</td>\n",
       "      <td>Tachyglossus</td>\n",
       "      <td>aculeatus</td>\n",
       "      <td>497.9</td>\n",
       "      <td>4</td>\n",
       "      <td>7</td>\n",
       "      <td>11</td>\n",
       "    </tr>\n",
       "    <tr>\n",
       "      <th>1</th>\n",
       "      <td>2</td>\n",
       "      <td>Tachyglossus</td>\n",
       "      <td>aculeatus</td>\n",
       "      <td>503.8</td>\n",
       "      <td>4</td>\n",
       "      <td>7</td>\n",
       "      <td>11</td>\n",
       "    </tr>\n",
       "    <tr>\n",
       "      <th>2</th>\n",
       "      <td>3</td>\n",
       "      <td>Tachyglossus</td>\n",
       "      <td>aculeatus</td>\n",
       "      <td>498.0</td>\n",
       "      <td>4</td>\n",
       "      <td>7</td>\n",
       "      <td>11</td>\n",
       "    </tr>\n",
       "    <tr>\n",
       "      <th>3</th>\n",
       "      <td>4</td>\n",
       "      <td>Tachyglossus</td>\n",
       "      <td>aculeatus</td>\n",
       "      <td>499.4</td>\n",
       "      <td>4</td>\n",
       "      <td>7</td>\n",
       "      <td>11</td>\n",
       "    </tr>\n",
       "    <tr>\n",
       "      <th>4</th>\n",
       "      <td>5</td>\n",
       "      <td>Bos</td>\n",
       "      <td>taurus</td>\n",
       "      <td>500.0</td>\n",
       "      <td>4</td>\n",
       "      <td>7</td>\n",
       "      <td>11</td>\n",
       "    </tr>\n",
       "  </tbody>\n",
       "</table>\n",
       "</div>"
      ],
      "text/plain": [
       "   hetid         Genus    Species  LambdaMax bin_cut_break5 bin_cut_break10  \\\n",
       "0      1  Tachyglossus  aculeatus      497.9              4               7   \n",
       "1      2  Tachyglossus  aculeatus      503.8              4               7   \n",
       "2      3  Tachyglossus  aculeatus      498.0              4               7   \n",
       "3      4  Tachyglossus  aculeatus      499.4              4               7   \n",
       "4      5           Bos     taurus      500.0              4               7   \n",
       "\n",
       "  bin_cut_break15  \n",
       "0              11  \n",
       "1              11  \n",
       "2              11  \n",
       "3              11  \n",
       "4              11  "
      ]
     },
     "execution_count": 93,
     "metadata": {},
     "output_type": "execute_result"
    }
   ],
   "source": [
    "df['bin_cut_break5'] = pd.cut(df['LambdaMax'] , bins=five_classes[1:], labels=labels[0:5], include_lowest=True)\n",
    "df.head(5)\n",
    "df['bin_cut_break10'] = pd.cut(df['LambdaMax'] , bins=ten_classes[1:], labels=labels[0:10], include_lowest=True)\n",
    "df.head(5)\n",
    "df['bin_cut_break15'] = pd.cut(df['LambdaMax'] , bins=fifteen_classes[1:], labels=labels, include_lowest=True)\n",
    "df.head(5)"
   ]
  },
  {
   "cell_type": "code",
   "execution_count": 97,
   "metadata": {},
   "outputs": [
    {
     "data": {
      "image/png": "[encoded data removed]",
      "text/plain": [
       "<Figure size 640x480 with 1 Axes>"
      ]
     },
     "metadata": {},
     "output_type": "display_data"
    },
    {
     "data": {
      "image/png": "[encoded data removed]",
      "text/plain": [
       "<Figure size 640x480 with 1 Axes>"
      ]
     },
     "metadata": {},
     "output_type": "display_data"
    },
    {
     "data": {
      "image/png": "[encoded data removed]",
      "text/plain": [
       "<Figure size 640x480 with 1 Axes>"
      ]
     },
     "metadata": {},
     "output_type": "display_data"
    }
   ],
   "source": [
    "five_hist = plt.hist(df['bin_cut_break5'], bins=5)\n",
    "plt.show()\n",
    "\n",
    "ten_hist = plt.hist(df['bin_cut_break10'], bins=10)\n",
    "plt.show()\n",
    "\n",
    "fiteen_hist = plt.hist(df['bin_cut_break15'], bins=15)"
   ]
  },
  {
   "cell_type": "code",
   "execution_count": 108,
   "metadata": {},
   "outputs": [
    {
     "name": "stdout",
     "output_type": "stream",
     "text": [
      "[  0.  397.  472.  495.5 508.  584. ]\n"
     ]
    },
    {
     "data": {
      "image/png": "[encoded data removed]",
      "text/plain": [
       "<Figure size 640x480 with 1 Axes>"
      ]
     },
     "metadata": {},
     "output_type": "display_data"
    },
    {
     "name": "stdout",
     "output_type": "stream",
     "text": [
      "[  0.  360.  397.  437.  472.  489.  495.5 501.  508.  531.  584. ]\n"
     ]
    },
    {
     "data": {
      "image/png": "[encoded data removed]",
      "text/plain": [
       "<Figure size 640x480 with 1 Axes>"
      ]
     },
     "metadata": {},
     "output_type": "display_data"
    },
    {
     "name": "stdout",
     "output_type": "stream",
     "text": [
      "[  0.         359.         363.         397.         420.\n",
      " 447.66666667 472.         486.         491.         495.5\n",
      " 500.         502.         508.         517.         546.66666667\n",
      " 584.        ]\n"
     ]
    },
    {
     "data": {
      "image/png": "[encoded data removed]",
      "text/plain": [
       "<Figure size 640x480 with 1 Axes>"
      ]
     },
     "metadata": {},
     "output_type": "display_data"
    }
   ],
   "source": [
    "five = pd.qcut(df['LambdaMax'], q=5, precision=1, labels=False, retbins=True)\n",
    "print(five[1])\n",
    "df['bin_qcut5'] = pd.qcut(df['LambdaMax'], q=5, precision=1, labels=False, retbins = False)\n",
    "plt.hist(df['bin_qcut5'], bins=5)\n",
    "plt.show()\n",
    "\n",
    "ten = pd.qcut(df['LambdaMax'], q=10, precision=1, labels=False, retbins=True)\n",
    "print(ten[1])\n",
    "df['bin_qcut10'] = pd.qcut(df['LambdaMax'], q=10, precision=1, labels=False, retbins = False)\n",
    "plt.hist(df['bin_qcut10'], bins=10)\n",
    "plt.show()\n",
    "\n",
    "fifteen = pd.qcut(df['LambdaMax'], q=15, precision=1, labels=False, retbins=True)\n",
    "print(fifteen[1])\n",
    "df['bin_qcut15'] = pd.qcut(df['LambdaMax'], q=15, precision=1, labels=False, retbins = False)\n",
    "plt.hist(df['bin_qcut15'], bins=15)\n",
    "plt.show()"
   ]
  },
  {
   "cell_type": "code",
   "execution_count": 109,
   "metadata": {},
   "outputs": [
    {
     "data": {
      "text/html": [
       "<div>\n",
       "<style scoped>\n",
       "    .dataframe tbody tr th:only-of-type {\n",
       "        vertical-align: middle;\n",
       "    }\n",
       "\n",
       "    .dataframe tbody tr th {\n",
       "        vertical-align: top;\n",
       "    }\n",
       "\n",
       "    .dataframe thead th {\n",
       "        text-align: right;\n",
       "    }\n",
       "</style>\n",
       "<table border=\"1\" class=\"dataframe\">\n",
       "  <thead>\n",
       "    <tr style=\"text-align: right;\">\n",
       "      <th></th>\n",
       "      <th>hetid</th>\n",
       "      <th>Genus</th>\n",
       "      <th>Species</th>\n",
       "      <th>LambdaMax</th>\n",
       "      <th>bin_cut_break5</th>\n",
       "      <th>bin_cut_break10</th>\n",
       "      <th>bin_cut_break15</th>\n",
       "      <th>bin_qcut5</th>\n",
       "      <th>bin_qcut10</th>\n",
       "      <th>bin_qcut15</th>\n",
       "    </tr>\n",
       "  </thead>\n",
       "  <tbody>\n",
       "    <tr>\n",
       "      <th>0</th>\n",
       "      <td>1</td>\n",
       "      <td>Tachyglossus</td>\n",
       "      <td>aculeatus</td>\n",
       "      <td>497.9</td>\n",
       "      <td>4</td>\n",
       "      <td>7</td>\n",
       "      <td>11</td>\n",
       "      <td>3</td>\n",
       "      <td>6</td>\n",
       "      <td>9</td>\n",
       "    </tr>\n",
       "    <tr>\n",
       "      <th>1</th>\n",
       "      <td>2</td>\n",
       "      <td>Tachyglossus</td>\n",
       "      <td>aculeatus</td>\n",
       "      <td>503.8</td>\n",
       "      <td>4</td>\n",
       "      <td>7</td>\n",
       "      <td>11</td>\n",
       "      <td>3</td>\n",
       "      <td>7</td>\n",
       "      <td>11</td>\n",
       "    </tr>\n",
       "    <tr>\n",
       "      <th>2</th>\n",
       "      <td>3</td>\n",
       "      <td>Tachyglossus</td>\n",
       "      <td>aculeatus</td>\n",
       "      <td>498.0</td>\n",
       "      <td>4</td>\n",
       "      <td>7</td>\n",
       "      <td>11</td>\n",
       "      <td>3</td>\n",
       "      <td>6</td>\n",
       "      <td>9</td>\n",
       "    </tr>\n",
       "    <tr>\n",
       "      <th>3</th>\n",
       "      <td>4</td>\n",
       "      <td>Tachyglossus</td>\n",
       "      <td>aculeatus</td>\n",
       "      <td>499.4</td>\n",
       "      <td>4</td>\n",
       "      <td>7</td>\n",
       "      <td>11</td>\n",
       "      <td>3</td>\n",
       "      <td>6</td>\n",
       "      <td>9</td>\n",
       "    </tr>\n",
       "    <tr>\n",
       "      <th>4</th>\n",
       "      <td>5</td>\n",
       "      <td>Bos</td>\n",
       "      <td>taurus</td>\n",
       "      <td>500.0</td>\n",
       "      <td>4</td>\n",
       "      <td>7</td>\n",
       "      <td>11</td>\n",
       "      <td>3</td>\n",
       "      <td>6</td>\n",
       "      <td>9</td>\n",
       "    </tr>\n",
       "  </tbody>\n",
       "</table>\n",
       "</div>"
      ],
      "text/plain": [
       "   hetid         Genus    Species  LambdaMax bin_cut_break5 bin_cut_break10  \\\n",
       "0      1  Tachyglossus  aculeatus      497.9              4               7   \n",
       "1      2  Tachyglossus  aculeatus      503.8              4               7   \n",
       "2      3  Tachyglossus  aculeatus      498.0              4               7   \n",
       "3      4  Tachyglossus  aculeatus      499.4              4               7   \n",
       "4      5           Bos     taurus      500.0              4               7   \n",
       "\n",
       "  bin_cut_break15  bin_qcut5  bin_qcut10  bin_qcut15  \n",
       "0              11          3           6           9  \n",
       "1              11          3           7          11  \n",
       "2              11          3           6           9  \n",
       "3              11          3           6           9  \n",
       "4              11          3           6           9  "
      ]
     },
     "execution_count": 109,
     "metadata": {},
     "output_type": "execute_result"
    }
   ],
   "source": [
    "df.head(5)"
   ]
  }
 ],
 "metadata": {
  "kernelspec": {
   "display_name": "deepBreaks_env2",
   "language": "python",
   "name": "python3"
  },
  "language_info": {
   "codemirror_mode": {
    "name": "ipython",
    "version": 3
   },
   "file_extension": ".py",
   "mimetype": "text/x-python",
   "name": "python",
   "nbconvert_exporter": "python",
   "pygments_lexer": "ipython3",
   "version": "3.8.1"
  },
  "orig_nbformat": 4
 },
 "nbformat": 4,
 "nbformat_minor": 2
}
