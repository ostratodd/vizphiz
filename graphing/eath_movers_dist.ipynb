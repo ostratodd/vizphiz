{
 "cells": [
  {
   "cell_type": "code",
   "execution_count": 1,
   "metadata": {},
   "outputs": [],
   "source": [
    "from scipy.stats import wasserstein_distance\n"
   ]
  },
  {
   "cell_type": "code",
   "execution_count": 3,
   "metadata": {},
   "outputs": [
    {
     "name": "stdout",
     "output_type": "stream",
     "text": [
      "EMD for Class 1 = 0.25806451612903225\n",
      "EMD for Class 2 = 0.2592592592592593\n",
      "Mean EMD for two classes is = 0.2586618876941458\n",
      "Multi class EMD = 0.2586206896551724\n"
     ]
    }
   ],
   "source": [
    "one_class = wasserstein_distance([1,3,30,1,1,0,0,0,0,0],[0,0,36,0,0,0,0,0,0,0],[2,1,0,1,2,3,4,5,6,7],[2,1,0,1,2,3,4,5,6,7])\n",
    "c1 = str(one_class)\n",
    "print(f\"EMD for Class 1 = \" + c1)\n",
    "one_class_t2 = wasserstein_distance([0,1,1,25,2,1,0,0,0,0],[0,0,0,30,0,0,0,0,0,0],[3,2,1,0,1,2,3,4,5,6],[3,2,1,0,1,2,3,4,5,67])\n",
    "c2 = str(one_class_t2)\n",
    "print(f\"EMD for Class 2 = \" + c2)\n",
    "mean_class = (one_class + one_class_t2) / 2\n",
    "mean_class = str(mean_class)\n",
    "print(f\"Mean EMD for two classes is = \" + mean_class)\n",
    "multi_class_t2 = wasserstein_distance([1,3,30,1,1,0,0,0,0,0,0,1,1,25,2,1,0,0,0,0],[0,0,36,0,0,0,0,0,0,0,0,0,0,30,0,0,0,0,0,0],\n",
    "                                    [2,1,0,1,2,3,4,5,6,7,3,2,1,0,1,2,3,4,5,6],[2,1,0,1,2,3,4,5,6,7,3,2,1,0,1,2,3,4,5,6])\n",
    "multi_class_t2 = str(multi_class_t2)\n",
    "print(f\"Multi class EMD = \" + multi_class_t2)"
   ]
  },
  {
   "cell_type": "code",
   "execution_count": 4,
   "metadata": {},
   "outputs": [
    {
     "name": "stdout",
     "output_type": "stream",
     "text": [
      "EMD for the Confusion Matrix is 0.23939393939393938\n"
     ]
    }
   ],
   "source": [
    "whole_matrix = wasserstein_distance([15,1,1,0,0,0,0,0,0,0,5,8,4,0,0,0,0,0,0,0,5,5,18,1,0,0,1,0,0,0,0,1,3,10,2,1,0,0,0,1,0,0,0,0,15,0,0,0,0,0,0,0,0,0,3,14,2,1,0,0,0,0,0,0,0,5,4,6,1,0,0,0,0,0,0,2,0,37,1,0,0,0,0,0,0,0,0,3,13,3,0,0,0,0,0,0,0,0,1,25],\n",
    "                                    [17,0,0,0,0,0,0,0,0,0,0,17,0,0,0,0,0,0,0,0,0,0,30,0,0,0,0,0,0,0,0,0,0,18,0,0,0,0,0,0,0,0,0,0,15,0,0,0,0,0,0,0,0,0,0,20,0,0,0,0,0,0,0,0,0,0,16,0,0,0,0,0,0,0,0,0,0,38,0,0,0,0,0,0,0,0,0,0,19,0,0,0,0,0,0,0,0,0,0,26],\n",
    "                                    [0,1,2,3,4,5,6,7,8,9,1,0,1,2,3,4,5,6,7,8,2,1,0,1,2,3,4,5,6,7,3,2,1,0,1,2,3,4,5,6,4,3,2,1,0,1,2,3,4,5,5,4,3,2,1,0,1,2,3,4,6,5,4,3,2,1,0,1,2,3,7,6,5,4,3,2,1,0,1,2,8,7,6,5,4,3,2,1,0,1,9,8,7,6,5,4,3,2,1,0],\n",
    "                                    [0,1,2,3,4,5,6,7,8,9,1,0,1,2,3,4,5,6,7,8,2,1,0,1,2,3,4,5,6,7,3,2,1,0,1,2,3,4,5,6,4,3,2,1,0,1,2,3,4,5,5,4,3,2,1,0,1,2,3,4,6,5,4,3,2,1,0,1,2,3,7,6,5,4,3,2,1,0,1,2,8,7,6,5,4,3,2,1,0,1,9,8,7,6,5,4,3,2,1,0])\n",
    "whole_matrix = str(whole_matrix)\n",
    "print(\"EMD for the Confusion Matrix is \" + whole_matrix)"
   ]
  }
 ],
 "metadata": {
  "kernelspec": {
   "display_name": "deepBreaks_env2",
   "language": "python",
   "name": "python3"
  },
  "language_info": {
   "codemirror_mode": {
    "name": "ipython",
    "version": 3
   },
   "file_extension": ".py",
   "mimetype": "text/x-python",
   "name": "python",
   "nbconvert_exporter": "python",
   "pygments_lexer": "ipython3",
   "version": "3.8.15"
  },
  "orig_nbformat": 4,
  "vscode": {
   "interpreter": {
    "hash": "ed5aafab82c1711937cb6f5bcd06445bf48d3ee36304e1e46581089e6ea661fb"
   }
  }
 },
 "nbformat": 4,
 "nbformat_minor": 2
}
